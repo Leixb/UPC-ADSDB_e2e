{
 "cells": [
  {
   "cell_type": "code",
   "execution_count": 1,
   "metadata": {},
   "outputs": [],
   "source": [
    "import pandas as pd\n",
    "import psycopg2\n",
    "import numpy as np\n",
    "pd.set_option('display.max_columns', None) # or 1000."
   ]
  },
  {
   "cell_type": "code",
   "execution_count": 2,
   "metadata": {},
   "outputs": [],
   "source": [
    "config = {\n",
    "    'DBNAME':'adsdb',\n",
    "    'USER':'postgres',\n",
    "    'PASSWORD':'postgresadmin',\n",
    "    'SCHEMA':'formatted'\n",
    "}"
   ]
  },
  {
   "cell_type": "code",
   "execution_count": 3,
   "metadata": {},
   "outputs": [],
   "source": [
    "conn = psycopg2.connect(dbname=config['DBNAME'], user=config['USER'], password=config['PASSWORD'])"
   ]
  },
  {
   "cell_type": "code",
   "execution_count": 4,
   "metadata": {},
   "outputs": [
    {
     "data": {
      "text/html": [
       "<div>\n",
       "<style scoped>\n",
       "    .dataframe tbody tr th:only-of-type {\n",
       "        vertical-align: middle;\n",
       "    }\n",
       "\n",
       "    .dataframe tbody tr th {\n",
       "        vertical-align: top;\n",
       "    }\n",
       "\n",
       "    .dataframe thead th {\n",
       "        text-align: right;\n",
       "    }\n",
       "</style>\n",
       "<table border=\"1\" class=\"dataframe\">\n",
       "  <thead>\n",
       "    <tr style=\"text-align: right;\">\n",
       "      <th></th>\n",
       "      <th>table_name</th>\n",
       "    </tr>\n",
       "  </thead>\n",
       "  <tbody>\n",
       "    <tr>\n",
       "      <th>0</th>\n",
       "      <td>morticd_10_1_f695_1642950107</td>\n",
       "    </tr>\n",
       "    <tr>\n",
       "      <th>1</th>\n",
       "      <td>morticd_10_3_1c6a_1642928618</td>\n",
       "    </tr>\n",
       "    <tr>\n",
       "      <th>2</th>\n",
       "      <td>morticd_10_4_453e_1642928618</td>\n",
       "    </tr>\n",
       "    <tr>\n",
       "      <th>3</th>\n",
       "      <td>notes_0_a67b_1642928619</td>\n",
       "    </tr>\n",
       "    <tr>\n",
       "      <th>4</th>\n",
       "      <td>population_0_3b8f_1642928619</td>\n",
       "    </tr>\n",
       "    <tr>\n",
       "      <th>5</th>\n",
       "      <td>demographiccountry_0_e0e0_1642950106</td>\n",
       "    </tr>\n",
       "    <tr>\n",
       "      <th>6</th>\n",
       "      <td>demographic_0_76f7_1642950106</td>\n",
       "    </tr>\n",
       "    <tr>\n",
       "      <th>7</th>\n",
       "      <td>demographiclabels_0_e8a5_1642950107</td>\n",
       "    </tr>\n",
       "    <tr>\n",
       "      <th>8</th>\n",
       "      <td>morticd_7_22b4_1642950107</td>\n",
       "    </tr>\n",
       "    <tr>\n",
       "      <th>9</th>\n",
       "      <td>morticd_8_9366_1642950107</td>\n",
       "    </tr>\n",
       "    <tr>\n",
       "      <th>10</th>\n",
       "      <td>morticd_9_71c9_1642950107</td>\n",
       "    </tr>\n",
       "    <tr>\n",
       "      <th>11</th>\n",
       "      <td>morticd_10_2_ffb1_1642950108</td>\n",
       "    </tr>\n",
       "    <tr>\n",
       "      <th>12</th>\n",
       "      <td>morticd_10_3_1c6a_1642950108</td>\n",
       "    </tr>\n",
       "    <tr>\n",
       "      <th>13</th>\n",
       "      <td>morticd_10_4_453e_1642950109</td>\n",
       "    </tr>\n",
       "    <tr>\n",
       "      <th>14</th>\n",
       "      <td>countrycodes_0_8c41_1642950109</td>\n",
       "    </tr>\n",
       "    <tr>\n",
       "      <th>15</th>\n",
       "      <td>notes_0_a67b_1642950109</td>\n",
       "    </tr>\n",
       "    <tr>\n",
       "      <th>16</th>\n",
       "      <td>population_0_3b8f_1642950109</td>\n",
       "    </tr>\n",
       "  </tbody>\n",
       "</table>\n",
       "</div>"
      ],
      "text/plain": [
       "                              table_name\n",
       "0           morticd_10_1_f695_1642950107\n",
       "1           morticd_10_3_1c6a_1642928618\n",
       "2           morticd_10_4_453e_1642928618\n",
       "3                notes_0_a67b_1642928619\n",
       "4           population_0_3b8f_1642928619\n",
       "5   demographiccountry_0_e0e0_1642950106\n",
       "6          demographic_0_76f7_1642950106\n",
       "7    demographiclabels_0_e8a5_1642950107\n",
       "8              morticd_7_22b4_1642950107\n",
       "9              morticd_8_9366_1642950107\n",
       "10             morticd_9_71c9_1642950107\n",
       "11          morticd_10_2_ffb1_1642950108\n",
       "12          morticd_10_3_1c6a_1642950108\n",
       "13          morticd_10_4_453e_1642950109\n",
       "14        countrycodes_0_8c41_1642950109\n",
       "15               notes_0_a67b_1642950109\n",
       "16          population_0_3b8f_1642950109"
      ]
     },
     "execution_count": 4,
     "metadata": {},
     "output_type": "execute_result"
    }
   ],
   "source": [
    "df_tables = pd.read_sql('SELECT table_name FROM information_schema.tables WHERE table_schema=\\'' + config['SCHEMA'] +'\\'   AND table_type=\\'BASE TABLE\\';', conn)\n",
    "df_tables"
   ]
  },
  {
   "cell_type": "code",
   "execution_count": 5,
   "metadata": {},
   "outputs": [
    {
     "data": {
      "text/plain": [
       "'16429501'"
      ]
     },
     "execution_count": 5,
     "metadata": {},
     "output_type": "execute_result"
    }
   ],
   "source": [
    "max_timestamp = df_tables['table_name'].apply(lambda x: x[x.rfind('_') +1 :-2]).max()\n",
    "max_timestamp"
   ]
  },
  {
   "cell_type": "code",
   "execution_count": 6,
   "metadata": {},
   "outputs": [
    {
     "data": {
      "text/html": [
       "<div>\n",
       "<style scoped>\n",
       "    .dataframe tbody tr th:only-of-type {\n",
       "        vertical-align: middle;\n",
       "    }\n",
       "\n",
       "    .dataframe tbody tr th {\n",
       "        vertical-align: top;\n",
       "    }\n",
       "\n",
       "    .dataframe thead th {\n",
       "        text-align: right;\n",
       "    }\n",
       "</style>\n",
       "<table border=\"1\" class=\"dataframe\">\n",
       "  <thead>\n",
       "    <tr style=\"text-align: right;\">\n",
       "      <th></th>\n",
       "      <th>table_name</th>\n",
       "    </tr>\n",
       "  </thead>\n",
       "  <tbody>\n",
       "    <tr>\n",
       "      <th>0</th>\n",
       "      <td>morticd_10_1_f695_1642950107</td>\n",
       "    </tr>\n",
       "    <tr>\n",
       "      <th>5</th>\n",
       "      <td>demographiccountry_0_e0e0_1642950106</td>\n",
       "    </tr>\n",
       "    <tr>\n",
       "      <th>6</th>\n",
       "      <td>demographic_0_76f7_1642950106</td>\n",
       "    </tr>\n",
       "    <tr>\n",
       "      <th>7</th>\n",
       "      <td>demographiclabels_0_e8a5_1642950107</td>\n",
       "    </tr>\n",
       "    <tr>\n",
       "      <th>8</th>\n",
       "      <td>morticd_7_22b4_1642950107</td>\n",
       "    </tr>\n",
       "    <tr>\n",
       "      <th>9</th>\n",
       "      <td>morticd_8_9366_1642950107</td>\n",
       "    </tr>\n",
       "    <tr>\n",
       "      <th>10</th>\n",
       "      <td>morticd_9_71c9_1642950107</td>\n",
       "    </tr>\n",
       "    <tr>\n",
       "      <th>11</th>\n",
       "      <td>morticd_10_2_ffb1_1642950108</td>\n",
       "    </tr>\n",
       "    <tr>\n",
       "      <th>12</th>\n",
       "      <td>morticd_10_3_1c6a_1642950108</td>\n",
       "    </tr>\n",
       "    <tr>\n",
       "      <th>13</th>\n",
       "      <td>morticd_10_4_453e_1642950109</td>\n",
       "    </tr>\n",
       "    <tr>\n",
       "      <th>14</th>\n",
       "      <td>countrycodes_0_8c41_1642950109</td>\n",
       "    </tr>\n",
       "    <tr>\n",
       "      <th>15</th>\n",
       "      <td>notes_0_a67b_1642950109</td>\n",
       "    </tr>\n",
       "    <tr>\n",
       "      <th>16</th>\n",
       "      <td>population_0_3b8f_1642950109</td>\n",
       "    </tr>\n",
       "  </tbody>\n",
       "</table>\n",
       "</div>"
      ],
      "text/plain": [
       "                              table_name\n",
       "0           morticd_10_1_f695_1642950107\n",
       "5   demographiccountry_0_e0e0_1642950106\n",
       "6          demographic_0_76f7_1642950106\n",
       "7    demographiclabels_0_e8a5_1642950107\n",
       "8              morticd_7_22b4_1642950107\n",
       "9              morticd_8_9366_1642950107\n",
       "10             morticd_9_71c9_1642950107\n",
       "11          morticd_10_2_ffb1_1642950108\n",
       "12          morticd_10_3_1c6a_1642950108\n",
       "13          morticd_10_4_453e_1642950109\n",
       "14        countrycodes_0_8c41_1642950109\n",
       "15               notes_0_a67b_1642950109\n",
       "16          population_0_3b8f_1642950109"
      ]
     },
     "execution_count": 6,
     "metadata": {},
     "output_type": "execute_result"
    }
   ],
   "source": [
    "df_lastupdate_tables = df_tables['table_name'].apply(lambda x: max_timestamp in x)\n",
    "df_tables[df_lastupdate_tables]"
   ]
  },
  {
   "cell_type": "code",
   "execution_count": 7,
   "metadata": {},
   "outputs": [],
   "source": [
    "mortic_dataframes = []\n",
    "demo_dataframes = []\n",
    "general_dataframes = []\n",
    "for table in df_tables[df_lastupdate_tables]['table_name']:\n",
    "    firstDash = str(table).index('_', 0)\n",
    "    lastDash = str(table).rindex('_')\n",
    "    secondlastDash = str(table).rindex('_', lastDash)\n",
    "    dfname = str(table[:secondlastDash])\n",
    "    if  dfname.count('_') >= 2:\n",
    "        lastDash = dfname.rindex('_')\n",
    "        dfname = dfname[:lastDash]\n",
    "    if 'morticd' in dfname:\n",
    "        mortic_dataframes.append('df_' + dfname)\n",
    "    elif 'demo' in dfname:\n",
    "        demo_dataframes.append('df_' + dfname)\n",
    "    else:\n",
    "        general_dataframes.append('df_' + dfname)\n",
    "    globals()['df_' + dfname] = pd.read_sql('SELECT * from ' + config['SCHEMA'] + '.' + table + ';', conn)"
   ]
  },
  {
   "cell_type": "code",
   "execution_count": 8,
   "metadata": {},
   "outputs": [
    {
     "data": {
      "text/plain": [
       "['df_demographiccountry_0', 'df_demographic_0', 'df_demographiclabels_0']"
      ]
     },
     "execution_count": 8,
     "metadata": {},
     "output_type": "execute_result"
    }
   ],
   "source": [
    "demo_dataframes"
   ]
  },
  {
   "cell_type": "code",
   "execution_count": 9,
   "metadata": {},
   "outputs": [
    {
     "data": {
      "text/plain": [
       "['df_morticd_10_1',\n",
       " 'df_morticd_7',\n",
       " 'df_morticd_8',\n",
       " 'df_morticd_9',\n",
       " 'df_morticd_10_2',\n",
       " 'df_morticd_10_3',\n",
       " 'df_morticd_10_4']"
      ]
     },
     "execution_count": 9,
     "metadata": {},
     "output_type": "execute_result"
    }
   ],
   "source": [
    "mortic_dataframes"
   ]
  },
  {
   "cell_type": "code",
   "execution_count": 10,
   "metadata": {},
   "outputs": [
    {
     "data": {
      "text/plain": [
       "['df_countrycodes_0', 'df_notes_0', 'df_population_0']"
      ]
     },
     "execution_count": 10,
     "metadata": {},
     "output_type": "execute_result"
    }
   ],
   "source": [
    "general_dataframes"
   ]
  },
  {
   "cell_type": "markdown",
   "metadata": {},
   "source": [
    "# Outliers"
   ]
  },
  {
   "cell_type": "markdown",
   "metadata": {},
   "source": [
    "The following row indexes have been found as outliers by the Boxplot quantiles"
   ]
  },
  {
   "cell_type": "code",
   "execution_count": 46,
   "metadata": {},
   "outputs": [
    {
     "name": "stdout",
     "output_type": "stream",
     "text": [
      "The following are the outliers for df_morticd_10_1 in the boxplot:[1125. 2000. 1125. ... 5150. 2002.    8.]\n",
      "The following are the outliers for df_morticd_7 in the boxplot:[  1125.   1955. 107822. ...   1960.   4340.   1960.]\n",
      "The following are the outliers for df_morticd_8 in the boxplot:[1060. 1980. 1087. ...  241.  130.   71.]\n",
      "The following are the outliers for df_morticd_9 in the boxplot:[2005. 1983.   36. ...   15.    9.    6.]\n",
      "The following are the outliers for df_morticd_10_2 in the boxplot:[1400. 2003.  377. ... 4240. 2005.  329.]\n",
      "The following are the outliers for df_morticd_10_3 in the boxplot:[1400. 2008.  392. ...    7.    3.    3.]\n",
      "The following are the outliers for df_morticd_10_4 in the boxplot:[1400. 2013.  383. ...    6. 5020. 2016.]\n"
     ]
    }
   ],
   "source": [
    "for df in mortic_dataframes:\n",
    "    df_num = globals()[str(df)].select_dtypes(include=np.number)\n",
    "    imp = SimpleImputer(strategy='median')\n",
    "    df_num = imp.fit_transform(df_num)\n",
    "    q1 = np.quantile(df_num, 0.25)\n",
    "\n",
    "    # finding the 3rd quartile\n",
    "    q3 = np.quantile(df_num, 0.75)\n",
    "    med = np.median(df_num)\n",
    "    \n",
    "    # finding the iqr region\n",
    "    iqr = q3-q1\n",
    "    \n",
    "    # finding upper and lower limits\n",
    "    upper_bound = q3+(1.5*iqr)\n",
    "    lower_bound = q1-(1.5*iqr)\n",
    "    outliers = df_num[(df_num <= lower_bound) | (df_num >= upper_bound)]\n",
    "    print('The following are the outliers for ' + df + ' in the boxplot:{}'.format(outliers))\n",
    "    "
   ]
  }
 ],
 "metadata": {
  "kernelspec": {
   "display_name": "Python 3",
   "language": "python",
   "name": "python3"
  },
  "language_info": {
   "codemirror_mode": {
    "name": "ipython",
    "version": 3
   },
   "file_extension": ".py",
   "mimetype": "text/x-python",
   "name": "python",
   "nbconvert_exporter": "python",
   "pygments_lexer": "ipython3",
   "version": "3.9.10"
  }
 },
 "nbformat": 4,
 "nbformat_minor": 4
}
