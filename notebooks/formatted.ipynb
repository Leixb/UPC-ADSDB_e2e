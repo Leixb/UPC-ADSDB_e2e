{
 "cells": [
  {
   "cell_type": "code",
   "execution_count": 4,
   "id": "83981989-7e20-4edf-888a-4ef812fe1881",
   "metadata": {},
   "outputs": [],
   "source": [
    "import psycopg2\n",
    "import os\n",
    "import glob"
   ]
  },
  {
   "cell_type": "code",
   "execution_count": 2,
   "id": "e4b59a8c-ee12-40fd-8598-8f460d51c8f9",
   "metadata": {},
   "outputs": [],
   "source": [
    "try:\n",
    "  from google.colab import drive\n",
    "  drive.mount('/content/drive', force_remount=True)\n",
    "  is_local = False\n",
    "except ModuleNotFoundError:\n",
    "  is_local = True"
   ]
  },
  {
   "cell_type": "code",
   "execution_count": 5,
   "id": "7362b509-f3e9-461f-a197-cd2a20f29bd6",
   "metadata": {},
   "outputs": [],
   "source": [
    "folder_landing = \"./landing\" if (is_local) else \"/content/drive/MyDrive/ADSDB/landing\"\n",
    "\n",
    "folder_temporal = os.path.join(folder_landing, \"temporal\")\n",
    "folder_persistent = os.path.join(folder_landing, \"persistent\")\n",
    "\n",
    "extract_dir = os.path.join(folder_persistent, \"extracted\")"
   ]
  },
  {
   "cell_type": "code",
   "execution_count": 68,
   "id": "927da8bc-be37-41c0-8522-7697de4effa2",
   "metadata": {},
   "outputs": [],
   "source": [
    "table_spec = dict(\n",
    "    MortICD = '''\n",
    "    \"Country\" integer,\n",
    "    \"Admin1\" VARCHAR (3),\n",
    "    \"SubDiv\" VARCHAR (3),\n",
    "    \"Year\" integer,\n",
    "    \"List\" VARCHAR (3),\n",
    "    \"Cause\" VARCHAR (4),\n",
    "    \"Sex\" integer,\n",
    "    \"Frmat\" VARCHAR (2),\n",
    "    \"IM_Frmat\" VARCHAR (2),\n",
    "    \"Deaths1\" integer,\n",
    "    \"Deaths2\" integer,\n",
    "    \"Deaths3\" integer,\n",
    "    \"Deaths4\" integer,\n",
    "    \"Deaths5\" integer,\n",
    "    \"Deaths6\" integer,\n",
    "    \"Deaths7\" integer,\n",
    "    \"Deaths8\" integer,\n",
    "    \"Deaths9\" integer,\n",
    "    \"Deaths10\" integer,\n",
    "    \"Deaths11\" integer,\n",
    "    \"Deaths12\" integer,\n",
    "    \"Deaths13\" integer,\n",
    "    \"Deaths14\" integer,\n",
    "    \"Deaths15\" integer,\n",
    "    \"Deaths16\" integer,\n",
    "    \"Deaths17\" integer,\n",
    "    \"Deaths18\" integer,\n",
    "    \"Deaths19\" integer,\n",
    "    \"Deaths20\" integer,\n",
    "    \"Deaths21\" integer,\n",
    "    \"Deaths22\" integer,\n",
    "    \"Deaths23\" integer,\n",
    "    \"Deaths24\" integer,\n",
    "    \"Deaths25\" integer,\n",
    "    \"Deaths26\" integer,\n",
    "    \"IM_Deaths1\" integer,\n",
    "    \"IM_Deaths2\" integer,\n",
    "    \"IM_Deaths3\" integer,\n",
    "    \"IM_Deaths4\" integer\n",
    "    ''',\n",
    "    CountryCodes = '''\n",
    "    \"country\" integer,\n",
    "    \"name\" VARCHAR(50)\n",
    "    ''',\n",
    "    Notes = '''\n",
    "    \"country\" integer,\n",
    "    \"year\" integer,\n",
    "    \"note\" VARCHAR (100)\n",
    "    ''',\n",
    "    Population = '''\n",
    "    \"Country\" integer,\n",
    "    \"Admin1\" VARCHAR (3),\n",
    "    \"SubDiv\" VARCHAR (3),\n",
    "    \"Year\" integer,\n",
    "    \"Sex\" integer,\n",
    "    \"Frmat\" VARCHAR (2),\n",
    "    \"Pop1\" numeric,\n",
    "    \"Pop2\" numeric,\n",
    "    \"Pop3\" numeric,\n",
    "    \"Pop4\" numeric,\n",
    "    \"Pop5\" numeric,\n",
    "    \"Pop6\" numeric,\n",
    "    \"Pop7\" numeric,\n",
    "    \"Pop8\" numeric,\n",
    "    \"Pop9\" numeric,\n",
    "    \"Pop10\" numeric,\n",
    "    \"Pop11\" numeric,\n",
    "    \"Pop12\" numeric,\n",
    "    \"Pop13\" numeric,\n",
    "    \"Pop14\" numeric,\n",
    "    \"Pop15\" numeric,\n",
    "    \"Pop16\" numeric,\n",
    "    \"Pop17\" numeric,\n",
    "    \"Pop18\" numeric,\n",
    "    \"Pop19\" numeric,\n",
    "    \"Pop20\" numeric,\n",
    "    \"Pop21\" numeric,\n",
    "    \"Pop22\" numeric,\n",
    "    \"Pop23\" numeric,\n",
    "    \"Pop24\" numeric,\n",
    "    \"Pop25\" numeric,\n",
    "    \"Pop26\" numeric,\n",
    "    \"Lb\" integer\n",
    "    ''',\n",
    ")"
   ]
  },
  {
   "cell_type": "code",
   "execution_count": 112,
   "id": "35e5cfc6-4e43-41e1-8ae2-31105567fa69",
   "metadata": {},
   "outputs": [],
   "source": [
    "table_equi = {\n",
    "    \"mort_availability\" : None,\n",
    "    \"mort_country_codes\" : (\"CountryCodes\", 0),\n",
    "    \"mort_documentation71f9e29d-7e3f-41e6-aafc-c4c1775c7aa3\" : None,\n",
    "    \"mort_notes\" : (\"Notes\", 0),\n",
    "    \"mort_pop\"   : (\"Population\", 0),\n",
    "    \"morticd07\"  : (\"MortICD\", 7),\n",
    "    \"morticd08\"  : (\"MortICD\", 8),\n",
    "    \"morticd09\"  : (\"MortICD\", 9),\n",
    "    \"morticd10_part1\" : (\"MortICD\", 10),\n",
    "    \"morticd10_part2\" : (\"MortICD\", 10),\n",
    "    \"morticd10_part3\" : (\"MortICD\", 10),\n",
    "    \"morticd10_part4\" : (\"MortICD\", 10),\n",
    "    \"morticd10_part5\" : (\"MortICD\", 10),\n",
    "}"
   ]
  },
  {
   "cell_type": "code",
   "execution_count": 124,
   "id": "d395fd59-c68c-480e-b6a6-6ac9bea23300",
   "metadata": {},
   "outputs": [],
   "source": [
    "def create_table(cursor, table_type, icd_rev, timestamp):\n",
    "    table_name = f\"formatted.{table_type}_{icd_rev}_{timestamp}\"\n",
    "\n",
    "    cursor.execute(f'''CREATE TABLE IF NOT EXISTS {table_name} (\n",
    "        {table_spec[table_type]}\n",
    "    );\n",
    "    ''')\n",
    "    \n",
    "    return table_name\n",
    "\n",
    "def load_csv(cursor, table_name, filename):\n",
    "    with open(filename, 'r') as csvfile:\n",
    "        cursor.copy_expert(f'''\n",
    "            COPY {table_name}\n",
    "            FROM STDIN\n",
    "            DELIMITER ','\n",
    "            CSV HEADER;\n",
    "        ''', csvfile)"
   ]
  },
  {
   "cell_type": "code",
   "execution_count": 125,
   "id": "f730a850-cabc-4243-8774-4487a01cccc0",
   "metadata": {},
   "outputs": [],
   "source": [
    "conn = psycopg2.connect(dbname=\"adsdb\", user=\"adsdb\")"
   ]
  },
  {
   "cell_type": "code",
   "execution_count": 126,
   "id": "b8b8b9a4-fc58-4077-9187-7d58b9d6ab79",
   "metadata": {},
   "outputs": [
    {
     "name": "stdout",
     "output_type": "stream",
     "text": [
      "formatted.CountryCodes_0_1642852775\n",
      "formatted.Notes_0_1642852775\n",
      "formatted.Population_0_1642852775\n",
      "formatted.MortICD_7_1642852775\n",
      "formatted.MortICD_8_1642852775\n",
      "formatted.MortICD_9_1642852775\n",
      "formatted.MortICD_10_1642852776\n",
      "formatted.MortICD_10_1642852776\n",
      "formatted.MortICD_10_1642852776\n",
      "formatted.MortICD_10_1642852776\n",
      "formatted.MortICD_10_1642852776\n"
     ]
    }
   ],
   "source": [
    "cur = conn.cursor()\n",
    "\n",
    "cur.execute('''CREATE SCHEMA IF NOT EXISTS formatted''')\n",
    "\n",
    "for i in glob.glob(f\"{folder_persistent}/extracted/*/*\"):\n",
    "    if \"metadata.json\" == os.path.basename(i):\n",
    "        continue\n",
    "\n",
    "    folder_path = os.path.dirname(i)\n",
    "    folder_base = os.path.basename(folder_path)\n",
    "    \n",
    "    name_sha, _, timestamp = folder_base.rpartition(\"-\")\n",
    "    name, _, sha = name_sha.rpartition(\"-\")\n",
    "    \n",
    "    table = table_equi[name]\n",
    "    \n",
    "    if table is not None:\n",
    "        target_table = create_table(cur, table[0], table[1], timestamp.partition(\".\")[0])\n",
    "        load_csv(cur, target_table, i)\n",
    "\n",
    "        print(target_table)\n",
    "\n",
    "conn.commit()"
   ]
  },
  {
   "cell_type": "markdown",
   "id": "0388c4c9-ba27-4775-a24b-c76fb6649634",
   "metadata": {},
   "source": [
    "## Obsolete"
   ]
  },
  {
   "cell_type": "code",
   "execution_count": 52,
   "id": "c658a867-345b-4feb-b62c-0ccf7f911dd3",
   "metadata": {},
   "outputs": [],
   "source": [
    "cur = conn.cursor()\n",
    "table_name = create_table(cur, \"MortICD\", 10, 2024)\n",
    "load_csv(cur, table_name, './landing/persistent/extracted/morticd10_part1-f695bf0a3dbff3e1d662c04e35df31322f581233fb6898a6472a43e470fd26f3-1642852776.002986/Morticd10_part1')\n",
    "print(table_name)\n",
    "conn.commit()"
   ]
  },
  {
   "cell_type": "code",
   "execution_count": 55,
   "id": "f5370fb3-f3df-4a9c-a76d-8dc088ed354b",
   "metadata": {},
   "outputs": [],
   "source": [
    "cur = conn.cursor()\n",
    "table_name = create_table(cur, \"CountryCodes\", 0, 2024)\n",
    "load_csv(cur, table_name, './landing/persistent/extracted/mort_country_codes-8c410820356fc572845b5281b36f638e044a565f808c4e72efc8fb69b07df6b2-1642852775.502403/country_codes')\n",
    "print(table_name)\n",
    "conn.commit()"
   ]
  },
  {
   "cell_type": "code",
   "execution_count": 64,
   "id": "4406400b-78f8-4bd4-8f92-11483db507bf",
   "metadata": {},
   "outputs": [],
   "source": [
    "cur = conn.cursor()\n",
    "table_name = create_table(cur, \"Notes\", 0, 2024)\n",
    "load_csv(cur, table_name, './landing/persistent/extracted/mort_notes-a67b4db9d9867e9076791d77c3ce9895eb19a7c6a789f367764676ad23eaec36-1642852775.507765/notes')\n",
    "print(table_name)\n",
    "conn.commit()"
   ]
  },
  {
   "cell_type": "code",
   "execution_count": 72,
   "id": "2b1e71b0-62e6-42f8-b328-b4b94a81bb7c",
   "metadata": {},
   "outputs": [],
   "source": [
    "cur = conn.cursor()\n",
    "table_name = create_table(cur, \"Population\", 0, 2025)\n",
    "load_csv(cur, table_name, './landing/persistent/extracted/mort_pop-3b8f463ba095690338a8d9692ab4bb0457639eefff12c9df7486c1cdaf7ac833-1642852775.50846/pop')\n",
    "print(table_name)\n",
    "conn.commit()"
   ]
  }
 ],
 "metadata": {
  "kernelspec": {
   "display_name": "Python 3",
   "language": "python",
   "name": "python3"
  },
  "language_info": {
   "codemirror_mode": {
    "name": "ipython",
    "version": 3
   },
   "file_extension": ".py",
   "mimetype": "text/x-python",
   "name": "python",
   "nbconvert_exporter": "python",
   "pygments_lexer": "ipython3",
   "version": "3.8.9"
  }
 },
 "nbformat": 4,
 "nbformat_minor": 5
}
