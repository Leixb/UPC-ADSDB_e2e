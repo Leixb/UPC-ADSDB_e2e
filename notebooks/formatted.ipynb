{
 "cells": [
  {
   "cell_type": "code",
   "execution_count": null,
   "id": "ad2ff4bd",
   "metadata": {},
   "outputs": [],
   "source": [
    "from dotenv import dotenv_values\n",
    "config = dotenv_values(\".env\")"
   ]
  },
  {
   "cell_type": "code",
   "execution_count": 35,
   "id": "3c614f98",
   "metadata": {},
   "outputs": [],
   "source": [
    "import psycopg2\n",
    "import os\n",
    "import glob\n",
    "import json"
   ]
  },
  {
   "cell_type": "code",
   "execution_count": 24,
   "id": "ce126918",
   "metadata": {},
   "outputs": [],
   "source": [
    "try:\n",
    "  from google.colab import drive\n",
    "  drive.mount('/content/drive', force_remount=True)\n",
    "  is_local = False\n",
    "except ModuleNotFoundError:\n",
    "  is_local = True"
   ]
  },
  {
   "cell_type": "code",
   "execution_count": 25,
   "id": "1369e601",
   "metadata": {},
   "outputs": [],
   "source": [
    "folder_landing = \"./landing\" if (is_local) else \"/content/drive/MyDrive/ADSDB/landing\"\n",
    "\n",
    "folder_temporal = os.path.join(folder_landing, \"temporal\")\n",
    "folder_persistent = os.path.join(folder_landing, \"persistent\")\n",
    "\n",
    "extract_dir = os.path.join(folder_persistent, \"extracted\")"
   ]
  },
  {
   "cell_type": "code",
   "execution_count": 26,
   "id": "1f44e8ab",
   "metadata": {},
   "outputs": [],
   "source": [
    "table_spec = dict(\n",
    "    MortICD = '',\n",
    "    CountryCodes = '',\n",
    "    Notes = '',\n",
    "    Population = '',\n",
    "    DemographicCountry = '',\n",
    "    DemographicLabels = '',\n",
    "    Demographic = ''\n",
    ")"
   ]
  },
  {
   "cell_type": "code",
   "execution_count": 28,
   "id": "053b5d29",
   "metadata": {},
   "outputs": [],
   "source": [
    "table_file = dict(\n",
    "    MortICD = 'MortICD.sql',\n",
    "    CountryCodes = 'CountryCodes.sql',\n",
    "    Notes = 'Notes.sql',\n",
    "    Population = 'Population.sql',\n",
    "    DemographicCountry = 'DemographicCountry.sql',\n",
    "    DemographicLabels = 'DemographicLabels.sql',\n",
    "    Demographic = 'Demographic.sql',\n",
    ")"
   ]
  },
  {
   "cell_type": "code",
   "execution_count": 29,
   "id": "2f188336",
   "metadata": {},
   "outputs": [],
   "source": [
    "for table in table_file:\n",
    "    with open(f'../sql/{table_file[table]}', 'r') as file:\n",
    "        table_spec[table] = file.read().replace('/n', '')"
   ]
  },
  {
   "cell_type": "code",
   "execution_count": 31,
   "id": "e1813387",
   "metadata": {},
   "outputs": [],
   "source": [
    "table_equi = {\n",
    "    \"Documentation_21June2021.doc\" : None,\n",
    "    \"list_ctry_yrs_21June2021.xlsx\" : None,\n",
    "    \"country_codes\" : (\"CountryCodes\", 0),\n",
    "    \"notes\" : (\"Notes\", 0),\n",
    "    \"pop\"   : (\"Population\", 0),\n",
    "    \"MortIcd7\"  : (\"MortICD\", 7),\n",
    "    \"Morticd8\"  : (\"MortICD\", 8),\n",
    "    \"Morticd9\"  : (\"MortICD\", 9),\n",
    "    \"Morticd10_part1\" : (\"MortICD\", \"10_1\"),\n",
    "    \"Morticd10_part2\" : (\"MortICD\", \"10_2\"),\n",
    "    \"Morticd10_part3\" : (\"MortICD\", \"10_3\"),\n",
    "    \"Morticd10_part4\" : (\"MortICD\", \"10_4\"),\n",
    "    \"Morticd10_part5\" : (\"MortICD\", \"10_5\"),\n",
    "    \"DEM_COUNTRY.csv\": (\"DemographicCountry\", 0),\n",
    "    \"DEM_LABEL.csv\": (\"DemographicLabels\", 0),\n",
    "    \"DEM_DATA_NATIONAL.csv\": (\"Demographic\", 0)\n",
    "}"
   ]
  },
  {
   "cell_type": "code",
   "execution_count": 39,
   "id": "2a4a54b9",
   "metadata": {},
   "outputs": [],
   "source": [
    "def create_table(cursor, table_type, icd_rev, timestamp):\n",
    "    table_name = f\"{config['SCHEMA']}.{table_type}_{icd_rev}_{timestamp}\"\n",
    "\n",
    "    cursor.execute(f'''CREATE TABLE IF NOT EXISTS {table_name} (\n",
    "        {table_spec[table_type]}\n",
    "    );\n",
    "    ''')\n",
    "    \n",
    "    return table_name\n",
    "\n",
    "def load_csv(cursor, table_name, filename):\n",
    "    with open(filename, 'r') as csvfile:\n",
    "        cursor.copy_expert(f'''\n",
    "            COPY {table_name}\n",
    "            FROM STDIN\n",
    "            DELIMITER ','\n",
    "            CSV HEADER;\n",
    "        ''', csvfile)"
   ]
  },
  {
   "cell_type": "code",
   "execution_count": 40,
   "id": "9fd016c5",
   "metadata": {},
   "outputs": [],
   "source": [
    "conn = psycopg2.connect(dbname=config['DBNAME'], user=config['USER'], password=config['PASSWORD'])"
   ]
  },
  {
   "cell_type": "code",
   "execution_count": 41,
   "id": "3b09a691",
   "metadata": {},
   "outputs": [
    {
     "name": "stdout",
     "output_type": "stream",
     "text": [
      "LOAD MortIcd7 ==> formatted.MortICD_7_22b4_1642928616\n",
      "LOAD Morticd8 ==> formatted.MortICD_8_9366_1642928616\n",
      "LOAD Morticd9 ==> formatted.MortICD_9_71c9_1642928616\n",
      "LOAD Morticd10_part1 ==> formatted.MortICD_10_1_f695_1642928617\n",
      "LOAD Morticd10_part2 ==> formatted.MortICD_10_2_ffb1_1642928617\n",
      "LOAD Morticd10_part3 ==> formatted.MortICD_10_3_1c6a_1642928618\n",
      "LOAD Morticd10_part4 ==> formatted.MortICD_10_4_453e_1642928618\n",
      "SKIP list_ctry_yrs_21June2021.xlsx\n",
      "LOAD country_codes ==> formatted.CountryCodes_0_8c41_1642928619\n",
      "SKIP Documentation_21June2021.doc\n",
      "LOAD notes ==> formatted.Notes_0_a67b_1642928619\n",
      "LOAD pop ==> formatted.Population_0_3b8f_1642928619\n"
     ]
    }
   ],
   "source": [
    "cur = conn.cursor()\n",
    "cur.execute('''CREATE SCHEMA IF NOT EXISTS ''' + config['SCHEMA'])\n",
    "\n",
    "for meta in glob.glob(f\"{folder_persistent}/extracted/*/metadata.json\"):\n",
    "    \n",
    "    with open(meta, 'r') as f:\n",
    "        metadata = json.load(f)\n",
    "\n",
    "    folder_path = os.path.dirname(meta)\n",
    "    folder_base = os.path.basename(folder_path)\n",
    "    \n",
    "    contents = glob.glob(f\"{folder_path}/*\")\n",
    "    \n",
    "    name_sha, _, timestamp = folder_base.rpartition(\"-\")\n",
    "    name, _, sha = name_sha.rpartition(\"-\")\n",
    "    version = sha[:4] + \"_\" + timestamp.partition(\".\")[0]\n",
    "\n",
    "    for i in contents:\n",
    "        filename = os.path.basename(i)\n",
    "        if filename == \"metadata.json\":\n",
    "            continue\n",
    "    \n",
    "        table = table_equi.get(filename)\n",
    "    \n",
    "        if table is not None:\n",
    "            target_table = create_table(cur, table[0], table[1], version)\n",
    "            load_csv(cur, target_table, i)\n",
    "\n",
    "            print(\"LOAD\", filename, \"==>\", target_table)\n",
    "        else:\n",
    "            print(\"SKIP\", filename)\n",
    "            \n",
    "conn.commit()"
   ]
  }
 ],
 "metadata": {
  "kernelspec": {
   "display_name": "Python 3",
   "language": "python",
   "name": "python3"
  },
  "language_info": {
   "codemirror_mode": {
    "name": "ipython",
    "version": 3
   },
   "file_extension": ".py",
   "mimetype": "text/x-python",
   "name": "python",
   "nbconvert_exporter": "python",
   "pygments_lexer": "ipython3",
   "version": "3.9.10"
  }
 },
 "nbformat": 4,
 "nbformat_minor": 5
}
