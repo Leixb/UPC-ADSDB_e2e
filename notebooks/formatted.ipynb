{
 "cells": [
  {
   "cell_type": "code",
   "execution_count": 1,
   "id": "3c614f98",
   "metadata": {},
   "outputs": [],
   "source": [
    "import psycopg2\n",
    "import os\n",
    "import glob\n",
    "import json"
   ]
  },
  {
   "cell_type": "code",
   "execution_count": 2,
   "id": "ce126918",
   "metadata": {},
   "outputs": [],
   "source": [
    "try:\n",
    "  from google.colab import drive\n",
    "  drive.mount('/content/drive', force_remount=True)\n",
    "  is_local = False\n",
    "except ModuleNotFoundError:\n",
    "  is_local = True"
   ]
  },
  {
   "cell_type": "code",
   "execution_count": 3,
   "id": "1369e601",
   "metadata": {},
   "outputs": [],
   "source": [
    "folder_landing = \"./landing\" if (is_local) else \"/content/drive/MyDrive/ADSDB/landing\"\n",
    "\n",
    "folder_temporal = os.path.join(folder_landing, \"temporal\")\n",
    "folder_persistent = os.path.join(folder_landing, \"persistent\")\n",
    "\n",
    "extract_dir = os.path.join(folder_persistent, \"extracted\")"
   ]
  },
  {
   "cell_type": "code",
   "execution_count": 4,
   "id": "1f44e8ab",
   "metadata": {},
   "outputs": [],
   "source": [
    "table_spec = dict()\n",
    "\n",
    "for spec_file in glob.glob(os.path.join(folder_landing, 'sql_spec', '*')):\n",
    "    table_name = os.path.basename(spec_file)\n",
    "    \n",
    "    with open(spec_file, 'r') as f:\n",
    "        table_spec[table_name] = f.read()"
   ]
  },
  {
   "cell_type": "code",
   "execution_count": 5,
   "id": "e1813387",
   "metadata": {},
   "outputs": [],
   "source": [
    "with open(os.path.join(folder_landing, 'spec_tables.json'), 'r') as f:\n",
    "    table_equi = json.load(f)"
   ]
  },
  {
   "cell_type": "code",
   "execution_count": 6,
   "id": "bffe2505-7e35-4d58-8e7c-be39d4040bcf",
   "metadata": {},
   "outputs": [
    {
     "data": {
      "text/plain": [
       "{'Documentation_21June2021.doc': None,\n",
       " 'list_ctry_yrs_21June2021.xlsx': None,\n",
       " 'country_codes': {'spec': 'CountryCodes'},\n",
       " 'notes': {'spec': 'Notes'},\n",
       " 'pop': {'spec': 'Population'},\n",
       " 'MortIcd7': {'spec': 'MortICD', 'rev': '7'},\n",
       " 'Morticd8': {'spec': 'MortICD', 'rev': '8'},\n",
       " 'Morticd9': {'spec': 'MortICD', 'rev': '9'},\n",
       " 'Morticd10_part1': {'spec': 'MortICD', 'rev': '10_1'},\n",
       " 'Morticd10_part2': {'spec': 'MortICD', 'rev': '10_2'},\n",
       " 'Morticd10_part3': {'spec': 'MortICD', 'rev': '10_3'},\n",
       " 'Morticd10_part4': {'spec': 'MortICD', 'rev': '10_4'},\n",
       " 'Morticd10_part5': {'spec': 'MortICD', 'rev': '10_5'},\n",
       " 'DEM_COUNTRY.csv': {'spec': 'DemographicCountry'},\n",
       " 'DEM_LABEL.csv': {'spec': 'DemographicLabels'},\n",
       " 'DEM_DATA_NATIONAL.csv': {'spec': 'Demographic'}}"
      ]
     },
     "execution_count": 6,
     "metadata": {},
     "output_type": "execute_result"
    }
   ],
   "source": [
    "table_equi"
   ]
  },
  {
   "cell_type": "code",
   "execution_count": 10,
   "id": "2a4a54b9",
   "metadata": {},
   "outputs": [],
   "source": [
    "def table_exists(cur, table_name):\n",
    "    cur.execute('''SELECT EXISTS(SELECT 1 FROM information_schema.tables \n",
    "              WHERE table_catalog='adsdb' AND \n",
    "                    table_schema='formatted' AND \n",
    "                    table_name=%s);''', (table_name.lower(),))\n",
    "    return cur.fetchone()[0]\n",
    "\n",
    "def create_table(cursor, table_type, icd_rev, timestamp, overwritte = False):\n",
    "    if icd_rev is None:\n",
    "        icd_rev = 0\n",
    "\n",
    "    table_name = f\"{table_type}_{icd_rev}_{timestamp}\"\n",
    "    table_name_full = f\"formatted.{table_name}\"\n",
    "    \n",
    "    if table_exists(cursor, table_name):\n",
    "        if not overwritte:\n",
    "            return None\n",
    "        print(f\"Overwritting table {table_name_full}\")\n",
    "        cursor.execute(f\"DROP TABLE {table_name_full} CASCADE;\");\n",
    "\n",
    "    cursor.execute(f'''CREATE TABLE {table_name_full} (\n",
    "        {table_spec[table_type]}\n",
    "    );\n",
    "    ''')\n",
    "    \n",
    "    return table_name_full\n",
    "\n",
    "def load_csv(cursor, table_name, filename):\n",
    "    with open(filename, 'r') as csvfile:\n",
    "        cursor.copy_expert(f'''\n",
    "            COPY {table_name}\n",
    "            FROM STDIN\n",
    "            DELIMITER ','\n",
    "            CSV HEADER;\n",
    "        ''', csvfile)\n",
    "        \n",
    "def ingest_folder(folder_path):\n",
    "    with open(os.path.join(folder_path, \"metadata.json\"), 'r') as f:\n",
    "        metadata = json.load(f)\n",
    "\n",
    "    folder_base = os.path.basename(folder_path)\n",
    "    \n",
    "    contents = glob.glob(f\"{folder_path}/*\")\n",
    "    \n",
    "    name_sha, _, timestamp = folder_base.rpartition(\"-\")\n",
    "    name, _, sha = name_sha.rpartition(\"-\")\n",
    "    version = sha[:4] + \"_\" + timestamp.partition(\".\")[0]\n",
    "\n",
    "    for i in contents:\n",
    "        filename = os.path.basename(i)\n",
    "        if filename == \"metadata.json\":\n",
    "            continue\n",
    "\n",
    "        table = table_equi.get(filename)\n",
    "    \n",
    "        if table is not None:\n",
    "            target_table = create_table(cur, table['spec'], table.get('rev'), version)\n",
    "            \n",
    "            if target_table is None:\n",
    "                print(\"SKIP ALREADY_IN_DB\", filename)\n",
    "                continue\n",
    "\n",
    "            load_csv(cur, target_table, i)\n",
    "\n",
    "            print(\"LOAD\", filename, \"==>\", target_table)\n",
    "        else:\n",
    "            print(\"SKIP IGNORED\", filename)"
   ]
  },
  {
   "cell_type": "code",
   "execution_count": 11,
   "id": "9fd016c5",
   "metadata": {},
   "outputs": [],
   "source": [
    "conn = psycopg2.connect(dbname=\"adsdb\", user=\"adsdb\", password=\"adsdb\")"
   ]
  },
  {
   "cell_type": "code",
   "execution_count": 12,
   "id": "3b09a691",
   "metadata": {},
   "outputs": [
    {
     "name": "stdout",
     "output_type": "stream",
     "text": [
      "SKIP IGNORED list_ctry_yrs_21June2021.xlsx\n",
      "LOAD country_codes ==> formatted.CountryCodes_0_8c41_1642852775\n",
      "SKIP IGNORED Documentation_21June2021.doc\n",
      "LOAD notes ==> formatted.Notes_0_a67b_1642852775\n",
      "LOAD pop ==> formatted.Population_0_3b8f_1642852775\n",
      "LOAD MortIcd7 ==> formatted.MortICD_7_22b4_1642852775\n",
      "LOAD Morticd8 ==> formatted.MortICD_8_9366_1642852775\n",
      "LOAD Morticd9 ==> formatted.MortICD_9_71c9_1642852775\n",
      "LOAD Morticd10_part1 ==> formatted.MortICD_10_1_f695_1642852776\n",
      "LOAD Morticd10_part2 ==> formatted.MortICD_10_2_ffb1_1642852776\n",
      "LOAD Morticd10_part3 ==> formatted.MortICD_10_3_1c6a_1642852776\n",
      "LOAD Morticd10_part4 ==> formatted.MortICD_10_4_453e_1642852776\n",
      "LOAD Morticd10_part5 ==> formatted.MortICD_10_5_8f17_1642852776\n",
      "SKIP IGNORED list_ctry_yrs_21June2021.xlsx\n",
      "LOAD country_codes ==> formatted.CountryCodes_0_8c41_1642868814\n",
      "SKIP IGNORED Documentation_21June2021.doc\n",
      "LOAD notes ==> formatted.Notes_0_a67b_1642868814\n",
      "LOAD pop ==> formatted.Population_0_3b8f_1642868814\n",
      "LOAD MortIcd7 ==> formatted.MortICD_7_22b4_1642868814\n",
      "LOAD Morticd8 ==> formatted.MortICD_8_9366_1642868814\n",
      "LOAD Morticd9 ==> formatted.MortICD_9_71c9_1642868814\n",
      "LOAD Morticd10_part1 ==> formatted.MortICD_10_1_f695_1642868814\n",
      "LOAD Morticd10_part2 ==> formatted.MortICD_10_2_ffb1_1642868815\n",
      "LOAD Morticd10_part3 ==> formatted.MortICD_10_3_1c6a_1642868815\n",
      "LOAD Morticd10_part4 ==> formatted.MortICD_10_4_453e_1642868816\n",
      "LOAD Morticd10_part5 ==> formatted.MortICD_10_5_8f17_1642868816\n",
      "LOAD DEM_DATA_NATIONAL.csv ==> formatted.Demographic_0_070d_1642868817\n",
      "LOAD DEM_LABEL.csv ==> formatted.DemographicLabels_0_070d_1642868817\n",
      "LOAD DEM_COUNTRY.csv ==> formatted.DemographicCountry_0_070d_1642868817\n",
      "SKIP IGNORED DEM_README_RELEASE_2021_September.md\n",
      "SKIP IGNORED list_ctry_yrs_21June2021.xlsx\n",
      "LOAD country_codes ==> formatted.CountryCodes_0_8c41_1642952242\n",
      "SKIP IGNORED Documentation_21June2021.doc\n",
      "LOAD notes ==> formatted.Notes_0_a67b_1642952242\n",
      "LOAD pop ==> formatted.Population_0_3b8f_1642952242\n",
      "LOAD MortIcd7 ==> formatted.MortICD_7_22b4_1642952242\n",
      "LOAD Morticd8 ==> formatted.MortICD_8_9366_1642952243\n",
      "LOAD Morticd9 ==> formatted.MortICD_9_71c9_1642952243\n",
      "LOAD Morticd10_part1 ==> formatted.MortICD_10_1_f695_1642952243\n",
      "LOAD Morticd10_part2 ==> formatted.MortICD_10_2_ffb1_1642952243\n",
      "LOAD Morticd10_part3 ==> formatted.MortICD_10_3_1c6a_1642952244\n",
      "LOAD Morticd10_part4 ==> formatted.MortICD_10_4_453e_1642952245\n",
      "LOAD Morticd10_part5 ==> formatted.MortICD_10_5_8f17_1642952245\n",
      "LOAD DEM_DATA_NATIONAL.csv ==> formatted.Demographic_0_070d_1642952245\n",
      "LOAD DEM_LABEL.csv ==> formatted.DemographicLabels_0_070d_1642952245\n",
      "LOAD DEM_COUNTRY.csv ==> formatted.DemographicCountry_0_070d_1642952245\n",
      "SKIP IGNORED DEM_README_RELEASE_2021_September.md\n",
      "SKIP IGNORED list_ctry_yrs_21June2021.xlsx\n",
      "LOAD country_codes ==> formatted.CountryCodes_0_8c41_1642953146\n",
      "SKIP IGNORED Documentation_21June2021.doc\n",
      "LOAD notes ==> formatted.Notes_0_a67b_1642953146\n",
      "LOAD pop ==> formatted.Population_0_3b8f_1642953146\n",
      "LOAD MortIcd7 ==> formatted.MortICD_7_22b4_1642953146\n",
      "LOAD Morticd8 ==> formatted.MortICD_8_9366_1642953146\n",
      "LOAD Morticd9 ==> formatted.MortICD_9_71c9_1642953146\n",
      "LOAD Morticd10_part1 ==> formatted.MortICD_10_1_f695_1642953147\n",
      "LOAD Morticd10_part2 ==> formatted.MortICD_10_2_ffb1_1642953147\n",
      "LOAD Morticd10_part3 ==> formatted.MortICD_10_3_1c6a_1642953147\n",
      "LOAD Morticd10_part4 ==> formatted.MortICD_10_4_453e_1642953148\n",
      "LOAD Morticd10_part5 ==> formatted.MortICD_10_5_8f17_1642953148\n",
      "LOAD DEM_DATA_NATIONAL.csv ==> formatted.Demographic_0_070d_1642953148\n",
      "LOAD DEM_LABEL.csv ==> formatted.DemographicLabels_0_070d_1642953148\n",
      "LOAD DEM_COUNTRY.csv ==> formatted.DemographicCountry_0_070d_1642953148\n",
      "SKIP IGNORED DEM_README_RELEASE_2021_September.md\n"
     ]
    }
   ],
   "source": [
    "cur = conn.cursor()\n",
    "cur.execute('''CREATE SCHEMA IF NOT EXISTS formatted''')\n",
    "\n",
    "for meta in glob.glob(f\"{folder_persistent}/extracted/*/metadata.json\"):\n",
    "    ingest_folder(os.path.dirname(meta))\n",
    "\n",
    "conn.commit()"
   ]
  }
 ],
 "metadata": {
  "kernelspec": {
   "display_name": "Python 3",
   "language": "python",
   "name": "python3"
  },
  "language_info": {
   "codemirror_mode": {
    "name": "ipython",
    "version": 3
   },
   "file_extension": ".py",
   "mimetype": "text/x-python",
   "name": "python",
   "nbconvert_exporter": "python",
   "pygments_lexer": "ipython3",
   "version": "3.8.9"
  }
 },
 "nbformat": 4,
 "nbformat_minor": 5
}
