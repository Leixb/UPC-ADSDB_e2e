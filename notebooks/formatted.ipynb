{
 "cells": [
  {
   "cell_type": "code",
   "execution_count": 11,
   "metadata": {},
   "outputs": [],
   "source": [
    "import psycopg2\n",
    "import os\n",
    "import glob"
   ]
  },
  {
   "cell_type": "code",
   "execution_count": 12,
   "metadata": {},
   "outputs": [],
   "source": [
    "try:\n",
    "  from google.colab import drive\n",
    "  drive.mount('/content/drive', force_remount=True)\n",
    "  is_local = False\n",
    "except ModuleNotFoundError:\n",
    "  is_local = True"
   ]
  },
  {
   "cell_type": "code",
   "execution_count": 13,
   "metadata": {},
   "outputs": [],
   "source": [
    "folder_landing = \"./landing\" if (is_local) else \"/content/drive/MyDrive/ADSDB/landing\"\n",
    "\n",
    "folder_temporal = os.path.join(folder_landing, \"temporal\")\n",
    "folder_persistent = os.path.join(folder_landing, \"persistent\")\n",
    "\n",
    "extract_dir = os.path.join(folder_persistent, \"extracted\")"
   ]
  },
  {
   "cell_type": "code",
   "execution_count": 33,
   "metadata": {},
   "outputs": [],
   "source": [
    "table_spec = dict(\n",
    "    MortICD = '''\n",
    "    \"Country\" integer,\n",
    "    \"Admin1\" VARCHAR (3),\n",
    "    \"SubDiv\" VARCHAR (3),\n",
    "    \"Year\" integer,\n",
    "    \"List\" VARCHAR (3),\n",
    "    \"Cause\" VARCHAR (4),\n",
    "    \"Sex\" integer,\n",
    "    \"Frmat\" VARCHAR (2),\n",
    "    \"IM_Frmat\" VARCHAR (2),\n",
    "    \"Deaths1\" integer,\n",
    "    \"Deaths2\" integer,\n",
    "    \"Deaths3\" integer,\n",
    "    \"Deaths4\" integer,\n",
    "    \"Deaths5\" integer,\n",
    "    \"Deaths6\" integer,\n",
    "    \"Deaths7\" integer,\n",
    "    \"Deaths8\" integer,\n",
    "    \"Deaths9\" integer,\n",
    "    \"Deaths10\" integer,\n",
    "    \"Deaths11\" integer,\n",
    "    \"Deaths12\" integer,\n",
    "    \"Deaths13\" integer,\n",
    "    \"Deaths14\" integer,\n",
    "    \"Deaths15\" integer,\n",
    "    \"Deaths16\" integer,\n",
    "    \"Deaths17\" integer,\n",
    "    \"Deaths18\" integer,\n",
    "    \"Deaths19\" integer,\n",
    "    \"Deaths20\" integer,\n",
    "    \"Deaths21\" integer,\n",
    "    \"Deaths22\" integer,\n",
    "    \"Deaths23\" integer,\n",
    "    \"Deaths24\" integer,\n",
    "    \"Deaths25\" integer,\n",
    "    \"Deaths26\" integer,\n",
    "    \"IM_Deaths1\" integer,\n",
    "    \"IM_Deaths2\" integer,\n",
    "    \"IM_Deaths3\" integer,\n",
    "    \"IM_Deaths4\" integer\n",
    "    ''',\n",
    "    CountryCodes = '''\n",
    "    \"Country\" integer,\n",
    "    \"Name\" VARCHAR(50)\n",
    "    ''',\n",
    "    Notes = '''\n",
    "    \"Country\" integer,\n",
    "    \"Year\" integer,\n",
    "    \"Note\" VARCHAR (100)\n",
    "    ''',\n",
    "    Population = '''\n",
    "    \"Country\" integer,\n",
    "    \"Admin1\" VARCHAR (3),\n",
    "    \"SubDiv\" VARCHAR (3),\n",
    "    \"Year\" integer,\n",
    "    \"Sex\" integer,\n",
    "    \"Frmat\" VARCHAR (2),\n",
    "    \"Pop1\" numeric,\n",
    "    \"Pop2\" numeric,\n",
    "    \"Pop3\" numeric,\n",
    "    \"Pop4\" numeric,\n",
    "    \"Pop5\" numeric,\n",
    "    \"Pop6\" numeric,\n",
    "    \"Pop7\" numeric,\n",
    "    \"Pop8\" numeric,\n",
    "    \"Pop9\" numeric,\n",
    "    \"Pop10\" numeric,\n",
    "    \"Pop11\" numeric,\n",
    "    \"Pop12\" numeric,\n",
    "    \"Pop13\" numeric,\n",
    "    \"Pop14\" numeric,\n",
    "    \"Pop15\" numeric,\n",
    "    \"Pop16\" numeric,\n",
    "    \"Pop17\" numeric,\n",
    "    \"Pop18\" numeric,\n",
    "    \"Pop19\" numeric,\n",
    "    \"Pop20\" numeric,\n",
    "    \"Pop21\" numeric,\n",
    "    \"Pop22\" numeric,\n",
    "    \"Pop23\" numeric,\n",
    "    \"Pop24\" numeric,\n",
    "    \"Pop25\" numeric,\n",
    "    \"Pop26\" numeric,\n",
    "    \"Lb\" integer\n",
    "    ''',\n",
    "    DemographicCountry = '''\n",
    "    \"Code\" VARCHAR(3),\n",
    "    \"Name\" VARCHAR(100)\n",
    "    ''',\n",
    "    DemographicLabels = '''\n",
    "    \"Indicator\" VARCHAR(50),\n",
    "    \"Description\" VARCHAR(100)\n",
    "    ''',\n",
    "    Demographic = '''\n",
    "    \"IndicatorId\" VARCHAR(50),\n",
    "    \"CountryId\" VARCHAR(3),\n",
    "    \"Year\" integer,\n",
    "    \"Value\" numeric,\n",
    "    \"Magnitude\" VARCHAR(50),\n",
    "    \"Qualifier\" VARCHAR(50)\n",
    "    '''\n",
    ")"
   ]
  },
  {
   "cell_type": "code",
   "execution_count": 29,
   "metadata": {},
   "outputs": [],
   "source": [
    "table_equi = {\n",
    "    \"mort_availability\" : None,\n",
    "    \"mort_country_codes\" : (\"CountryCodes\", 0),\n",
    "    \"mort_documentation71f9e29d-7e3f-41e6-aafc-c4c1775c7aa3\" : None,\n",
    "    \"mort_notes\" : (\"Notes\", 0),\n",
    "    \"mort_pop\"   : (\"Population\", 0),\n",
    "    \"morticd07\"  : (\"MortICD\", 7),\n",
    "    \"morticd08\"  : (\"MortICD\", 8),\n",
    "    \"morticd09\"  : (\"MortICD\", 9),\n",
    "    \"morticd10_part1\" : (\"MortICD\", 10),\n",
    "    \"morticd10_part2\" : (\"MortICD\", 10),\n",
    "    \"morticd10_part3\" : (\"MortICD\", 10),\n",
    "    \"morticd10_part4\" : (\"MortICD\", 10),\n",
    "    \"morticd10_part5\" : (\"MortICD\", 10),\n",
    "    \"DEM_COUNTRY\": (\"DemographicCountry\", 0),\n",
    "    \"DEM_LABEL\": (\"DemographicLabels\", 0),\n",
    "    \"DEM_DATA_NATIONAL\": (\"Demographic\", 0)\n",
    "}"
   ]
  },
  {
   "cell_type": "code",
   "execution_count": 30,
   "metadata": {},
   "outputs": [],
   "source": [
    "def create_table(cursor, table_type, icd_rev, timestamp):\n",
    "    table_name = f\"formatted.{table_type}_{icd_rev}_{timestamp}\"\n",
    "\n",
    "    cursor.execute(f'''CREATE TABLE IF NOT EXISTS {table_name} (\n",
    "        {table_spec[table_type]}\n",
    "    );\n",
    "    ''')\n",
    "    \n",
    "    return table_name\n",
    "\n",
    "def load_csv(cursor, table_name, filename):\n",
    "    with open(filename, 'r') as csvfile:\n",
    "        cursor.copy_expert(f'''\n",
    "            COPY {table_name}\n",
    "            FROM STDIN\n",
    "            DELIMITER ','\n",
    "            CSV HEADER;\n",
    "        ''', csvfile)"
   ]
  },
  {
   "cell_type": "code",
   "execution_count": 35,
   "metadata": {},
   "outputs": [],
   "source": [
    "conn = psycopg2.connect(dbname=\"adsdb\", user=\"adsdb\", password=\"adsdb\")"
   ]
  },
  {
   "cell_type": "code",
   "execution_count": 36,
   "metadata": {},
   "outputs": [
    {
     "name": "stdout",
     "output_type": "stream",
     "text": [
      "formatted.DemographicCountry_0_7438748359\n",
      "formatted.Demographic_0_r8328934\n",
      "formatted.DemographicLabels_0_37848432\n",
      "formatted.MortICD_7_1642864119\n",
      "formatted.MortICD_8_1642864119\n",
      "formatted.MortICD_9_1642864119\n",
      "formatted.MortICD_10_1642864120\n",
      "formatted.MortICD_10_1642864120\n",
      "formatted.MortICD_10_1642864121\n",
      "formatted.MortICD_10_1642864121\n",
      "formatted.MortICD_10_1642864121\n",
      "formatted.CountryCodes_0_1642864121\n",
      "formatted.Notes_0_1642864121\n",
      "formatted.Population_0_1642864121\n"
     ]
    }
   ],
   "source": [
    "cur = conn.cursor()\n",
    "\n",
    "cur.execute('''CREATE SCHEMA IF NOT EXISTS formatted''')\n",
    "\n",
    "for i in glob.glob(f\"{folder_persistent}/extracted/*/*\"):\n",
    "    if \"metadata.json\" == os.path.basename(i):\n",
    "        continue\n",
    "\n",
    "    folder_path = os.path.dirname(i)\n",
    "    folder_base = os.path.basename(folder_path)\n",
    "    \n",
    "    name_sha, _, timestamp = folder_base.rpartition(\"-\")\n",
    "    name, _, sha = name_sha.rpartition(\"-\")\n",
    "    \n",
    "    table = table_equi[name]\n",
    "    \n",
    "    if table is not None:\n",
    "        target_table = create_table(cur, table[0], table[1], timestamp.partition(\".\")[0])\n",
    "        load_csv(cur, target_table, i)\n",
    "\n",
    "        print(target_table)\n",
    "\n",
    "conn.commit()"
   ]
  },
  {
   "cell_type": "markdown",
   "metadata": {},
   "source": [
    "## Obsolete"
   ]
  },
  {
   "cell_type": "code",
   "execution_count": 52,
   "metadata": {},
   "outputs": [],
   "source": [
    "cur = conn.cursor()\n",
    "table_name = create_table(cur, \"MortICD\", 10, 2024)\n",
    "load_csv(cur, table_name, './landing/persistent/extracted/morticd10_part1-f695bf0a3dbff3e1d662c04e35df31322f581233fb6898a6472a43e470fd26f3-1642852776.002986/Morticd10_part1')\n",
    "print(table_name)\n",
    "conn.commit()"
   ]
  },
  {
   "cell_type": "code",
   "execution_count": 55,
   "metadata": {},
   "outputs": [],
   "source": [
    "cur = conn.cursor()\n",
    "table_name = create_table(cur, \"CountryCodes\", 0, 2024)\n",
    "load_csv(cur, table_name, './landing/persistent/extracted/mort_country_codes-8c410820356fc572845b5281b36f638e044a565f808c4e72efc8fb69b07df6b2-1642852775.502403/country_codes')\n",
    "print(table_name)\n",
    "conn.commit()"
   ]
  },
  {
   "cell_type": "code",
   "execution_count": 64,
   "metadata": {},
   "outputs": [],
   "source": [
    "cur = conn.cursor()\n",
    "table_name = create_table(cur, \"Notes\", 0, 2024)\n",
    "load_csv(cur, table_name, './landing/persistent/extracted/mort_notes-a67b4db9d9867e9076791d77c3ce9895eb19a7c6a789f367764676ad23eaec36-1642852775.507765/notes')\n",
    "print(table_name)\n",
    "conn.commit()"
   ]
  },
  {
   "cell_type": "code",
   "execution_count": 72,
   "metadata": {},
   "outputs": [],
   "source": [
    "cur = conn.cursor()\n",
    "table_name = create_table(cur, \"Population\", 0, 2025)\n",
    "load_csv(cur, table_name, './landing/persistent/extracted/mort_pop-3b8f463ba095690338a8d9692ab4bb0457639eefff12c9df7486c1cdaf7ac833-1642852775.50846/pop')\n",
    "print(table_name)\n",
    "conn.commit()"
   ]
  }
 ],
 "metadata": {
  "kernelspec": {
   "display_name": "Python 3",
   "language": "python",
   "name": "python3"
  },
  "language_info": {
   "codemirror_mode": {
    "name": "ipython",
    "version": 3
   },
   "file_extension": ".py",
   "mimetype": "text/x-python",
   "name": "python",
   "nbconvert_exporter": "python",
   "pygments_lexer": "ipython3",
   "version": "3.8.5"
  }
 },
 "nbformat": 4,
 "nbformat_minor": 5
}
