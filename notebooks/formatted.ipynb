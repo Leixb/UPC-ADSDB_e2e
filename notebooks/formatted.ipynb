{
 "cells": [
  {
   "cell_type": "code",
   "execution_count": 4,
   "id": "83981989-7e20-4edf-888a-4ef812fe1881",
   "metadata": {},
   "outputs": [],
   "source": [
    "import psycopg2\n",
    "import os"
   ]
  },
  {
   "cell_type": "code",
   "execution_count": 2,
   "id": "e4b59a8c-ee12-40fd-8598-8f460d51c8f9",
   "metadata": {},
   "outputs": [],
   "source": [
    "try:\n",
    "  from google.colab import drive\n",
    "  drive.mount('/content/drive', force_remount=True)\n",
    "  is_local = False\n",
    "except ModuleNotFoundError:\n",
    "  is_local = True"
   ]
  },
  {
   "cell_type": "code",
   "execution_count": 5,
   "id": "7362b509-f3e9-461f-a197-cd2a20f29bd6",
   "metadata": {},
   "outputs": [],
   "source": [
    "folder_landing = \"./landing\" if (is_local) else \"/content/drive/MyDrive/ADSDB/landing\"\n",
    "\n",
    "folder_temporal = os.path.join(folder_landing, \"temporal\")\n",
    "folder_persistent = os.path.join(folder_landing, \"persistent\")\n",
    "\n",
    "extract_dir = os.path.join(folder_persistent, \"extracted\")"
   ]
  },
  {
   "cell_type": "code",
   "execution_count": 7,
   "id": "792365c5-ad9a-4fb2-8e84-a39a6fad85d4",
   "metadata": {},
   "outputs": [
    {
     "name": "stdout",
     "output_type": "stream",
     "text": [
      "\u001b[0m\u001b[01;34mmort_availability-72696e4e26befe59c99ef76edf051c3d797350d4b7c7cb084f60f0b61f6280cc-1642852775.496732\u001b[0m\u001b[K/\n",
      "\u001b[01;34mmort_country_codes-8c410820356fc572845b5281b36f638e044a565f808c4e72efc8fb69b07df6b2-1642852775.502403\u001b[0m\u001b[K/\n",
      "\u001b[01;34mmort_documentation71f9e29d-7e3f-41e6-aafc-c4c1775c7aa3-eaff73ddddc2ea57057f3fc20038f0a42ea16c0442b8e28e93e8df47de50542b-1642852775.503271\u001b[0m\u001b[K/\n",
      "\u001b[01;34mmorticd07-22b463f703974c247c37a33133713348800a4cc68163eb37ff7ac139406237b5-1642852775.518347\u001b[0m\u001b[K/\n",
      "\u001b[01;34mmorticd08-93662076d32b3ca378d3f9bd7170ca5c2ec81dc43958c6500ec928fe72886e6d-1642852775.615834\u001b[0m\u001b[K/\n",
      "\u001b[01;34mmorticd09-71c96f66c67f0ae8fb0da942e9ba1a0b050b6d60450c58997c49fe6ba16f9b6f-1642852775.732444\u001b[0m\u001b[K/\n",
      "\u001b[01;34mmorticd10_part1-f695bf0a3dbff3e1d662c04e35df31322f581233fb6898a6472a43e470fd26f3-1642852776.002986\u001b[0m\u001b[K/\n",
      "\u001b[01;34mmorticd10_part2-ffb1ddb02ca487f0e074977c486fe89dc61d1180041b53e5be5872f7cf61e0da-1642852776.261795\u001b[0m\u001b[K/\n",
      "\u001b[01;34mmorticd10_part3-1c6ac83e205760a121b515cad8d97733f8cdc19afd0beb0b5d0e45d474786f54-1642852776.510674\u001b[0m\u001b[K/\n",
      "\u001b[01;34mmorticd10_part4-453ea568dead76c65c21a7de91da05cff8faf41b9d86961454307a3925057e61-1642852776.777416\u001b[0m\u001b[K/\n",
      "\u001b[01;34mmorticd10_part5-8f17316db49b873046f32ceaed83461adaf6e121b7302167709d8fb6c2aaa181-1642852776.989887\u001b[0m\u001b[K/\n",
      "\u001b[01;34mmort_notes-a67b4db9d9867e9076791d77c3ce9895eb19a7c6a789f367764676ad23eaec36-1642852775.507765\u001b[0m\u001b[K/\n",
      "\u001b[01;34mmort_pop-3b8f463ba095690338a8d9692ab4bb0457639eefff12c9df7486c1cdaf7ac833-1642852775.50846\u001b[0m\u001b[K/\n"
     ]
    }
   ],
   "source": [
    "%ls landing/persistent/extracted"
   ]
  },
  {
   "cell_type": "code",
   "execution_count": 68,
   "id": "927da8bc-be37-41c0-8522-7697de4effa2",
   "metadata": {},
   "outputs": [],
   "source": [
    "table_spec = dict(\n",
    "    MortICD = '''\n",
    "    \"Country\" integer,\n",
    "    \"Admin1\" VARCHAR (3),\n",
    "    \"SubDiv\" VARCHAR (3),\n",
    "    \"Year\" integer,\n",
    "    \"List\" VARCHAR (3),\n",
    "    \"Cause\" VARCHAR (4),\n",
    "    \"Sex\" integer,\n",
    "    \"Frmat\" VARCHAR (2),\n",
    "    \"IM_Frmat\" VARCHAR (2),\n",
    "    \"Deaths1\" integer,\n",
    "    \"Deaths2\" integer,\n",
    "    \"Deaths3\" integer,\n",
    "    \"Deaths4\" integer,\n",
    "    \"Deaths5\" integer,\n",
    "    \"Deaths6\" integer,\n",
    "    \"Deaths7\" integer,\n",
    "    \"Deaths8\" integer,\n",
    "    \"Deaths9\" integer,\n",
    "    \"Deaths10\" integer,\n",
    "    \"Deaths11\" integer,\n",
    "    \"Deaths12\" integer,\n",
    "    \"Deaths13\" integer,\n",
    "    \"Deaths14\" integer,\n",
    "    \"Deaths15\" integer,\n",
    "    \"Deaths16\" integer,\n",
    "    \"Deaths17\" integer,\n",
    "    \"Deaths18\" integer,\n",
    "    \"Deaths19\" integer,\n",
    "    \"Deaths20\" integer,\n",
    "    \"Deaths21\" integer,\n",
    "    \"Deaths22\" integer,\n",
    "    \"Deaths23\" integer,\n",
    "    \"Deaths24\" integer,\n",
    "    \"Deaths25\" integer,\n",
    "    \"Deaths26\" integer,\n",
    "    \"IM_Deaths1\" integer,\n",
    "    \"IM_Deaths2\" integer,\n",
    "    \"IM_Deaths3\" integer,\n",
    "    \"IM_Deaths4\" integer\n",
    "    ''',\n",
    "    CountryCodes = '''\n",
    "    \"country\" integer,\n",
    "    \"name\" VARCHAR(50)\n",
    "    ''',\n",
    "    Notes = '''\n",
    "    \"country\" integer,\n",
    "    \"year\" integer,\n",
    "    \"note\" VARCHAR (100)\n",
    "    ''',\n",
    "    Population = '''\n",
    "    \"Country\" integer,\n",
    "    \"Admin1\" VARCHAR (3),\n",
    "    \"SubDiv\" VARCHAR (3),\n",
    "    \"Year\" integer,\n",
    "    \"Sex\" integer,\n",
    "    \"Frmat\" VARCHAR (2),\n",
    "    \"Pop1\" numeric,\n",
    "    \"Pop2\" numeric,\n",
    "    \"Pop3\" numeric,\n",
    "    \"Pop4\" numeric,\n",
    "    \"Pop5\" numeric,\n",
    "    \"Pop6\" numeric,\n",
    "    \"Pop7\" numeric,\n",
    "    \"Pop8\" numeric,\n",
    "    \"Pop9\" numeric,\n",
    "    \"Pop10\" numeric,\n",
    "    \"Pop11\" numeric,\n",
    "    \"Pop12\" numeric,\n",
    "    \"Pop13\" numeric,\n",
    "    \"Pop14\" numeric,\n",
    "    \"Pop15\" numeric,\n",
    "    \"Pop16\" numeric,\n",
    "    \"Pop17\" numeric,\n",
    "    \"Pop18\" numeric,\n",
    "    \"Pop19\" numeric,\n",
    "    \"Pop20\" numeric,\n",
    "    \"Pop21\" numeric,\n",
    "    \"Pop22\" numeric,\n",
    "    \"Pop23\" numeric,\n",
    "    \"Pop24\" numeric,\n",
    "    \"Pop25\" numeric,\n",
    "    \"Pop26\" numeric,\n",
    "    \"Lb\" integer\n",
    "    ''',\n",
    ")"
   ]
  },
  {
   "cell_type": "code",
   "execution_count": 57,
   "id": "d395fd59-c68c-480e-b6a6-6ac9bea23300",
   "metadata": {},
   "outputs": [],
   "source": [
    "def create_table(cursor, table_type, icd_rev, timestamp):\n",
    "    table_name = f\"formatted.{table_type}_{icd_rev}_{timestamp}\"\n",
    "\n",
    "    cursor.execute(f'''CREATE TABLE {table_name} (\n",
    "        {table_spec[table_type]}\n",
    "    );\n",
    "    ''')\n",
    "    \n",
    "    return table_name\n",
    "\n",
    "def load_csv(cursor, table_name, filename):\n",
    "    with open(filename, 'r') as csvfile:\n",
    "        cursor.copy_expert(f'''\n",
    "            COPY {table_name}\n",
    "            FROM STDIN\n",
    "            DELIMITER ','\n",
    "            CSV HEADER;\n",
    "        ''', csvfile)"
   ]
  },
  {
   "cell_type": "code",
   "execution_count": 70,
   "id": "f730a850-cabc-4243-8774-4487a01cccc0",
   "metadata": {},
   "outputs": [],
   "source": [
    "conn = psycopg2.connect(\"dbname=adsdb user=adsdb\")"
   ]
  },
  {
   "cell_type": "code",
   "execution_count": 44,
   "id": "a0633298-a23a-45e9-84b3-2e61510ef70b",
   "metadata": {},
   "outputs": [],
   "source": [
    "cur = conn.cursor()\n",
    "cur.execute('''CREATE SCHEMA IF NOT EXISTS formatted''')\n",
    "conn.commit()"
   ]
  },
  {
   "cell_type": "code",
   "execution_count": 52,
   "id": "5378ecc8-c8ae-4b93-992b-f05a3ff2a1bd",
   "metadata": {},
   "outputs": [
    {
     "name": "stdout",
     "output_type": "stream",
     "text": [
      "formatted.MortICD_10_2024\n"
     ]
    }
   ],
   "source": [
    "cur = conn.cursor()\n",
    "table_name = create_table(cur, \"MortICD\", 10, 2024)\n",
    "print(table_name)\n",
    "conn.commit()"
   ]
  },
  {
   "cell_type": "code",
   "execution_count": null,
   "id": "8798b8c4-7b71-4763-8a64-34879d5631dd",
   "metadata": {},
   "outputs": [],
   "source": [
    "cur = conn.cursor()\n",
    "load_csv(cur, table_name, './landing/persistent/extracted/morticd10_part1-f695bf0a3dbff3e1d662c04e35df31322f581233fb6898a6472a43e470fd26f3-1642852776.002986/Morticd10_part1')\n",
    "conn.commit()"
   ]
  },
  {
   "cell_type": "code",
   "execution_count": 55,
   "id": "ceb949fb-998d-458e-86db-d72ff967f0c5",
   "metadata": {},
   "outputs": [
    {
     "name": "stdout",
     "output_type": "stream",
     "text": [
      "formatted.CountryCodes_0_2024\n"
     ]
    }
   ],
   "source": [
    "cur = conn.cursor()\n",
    "table_name = create_table(cur, \"CountryCodes\", 0, 2024)\n",
    "print(table_name)\n",
    "conn.commit()"
   ]
  },
  {
   "cell_type": "code",
   "execution_count": 59,
   "id": "96d5d08a-00de-4d98-b089-5678d0d2ce02",
   "metadata": {},
   "outputs": [],
   "source": [
    "cur = conn.cursor()\n",
    "load_csv(cur, table_name, './landing/persistent/extracted/mort_country_codes-8c410820356fc572845b5281b36f638e044a565f808c4e72efc8fb69b07df6b2-1642852775.502403/country_codes')\n",
    "conn.commit()"
   ]
  },
  {
   "cell_type": "code",
   "execution_count": 63,
   "id": "9a1a0d12-59e9-4141-b18d-70203fe7792c",
   "metadata": {},
   "outputs": [
    {
     "name": "stdout",
     "output_type": "stream",
     "text": [
      "formatted.Notes_0_2024\n"
     ]
    }
   ],
   "source": [
    "cur = conn.cursor()\n",
    "table_name = create_table(cur, \"Notes\", 0, 2024)\n",
    "print(table_name)\n",
    "conn.commit()"
   ]
  },
  {
   "cell_type": "code",
   "execution_count": 64,
   "id": "0a5e9cf7-9642-415b-8d1b-ced43ae8a452",
   "metadata": {},
   "outputs": [],
   "source": [
    "cur = conn.cursor()\n",
    "load_csv(cur, table_name, './landing/persistent/extracted/mort_notes-a67b4db9d9867e9076791d77c3ce9895eb19a7c6a789f367764676ad23eaec36-1642852775.507765/notes')\n",
    "conn.commit()"
   ]
  },
  {
   "cell_type": "code",
   "execution_count": 71,
   "id": "2d2184b1-19a7-4c2a-8429-1f628b2ceaae",
   "metadata": {},
   "outputs": [
    {
     "name": "stdout",
     "output_type": "stream",
     "text": [
      "formatted.Population_0_2025\n"
     ]
    }
   ],
   "source": [
    "cur = conn.cursor()\n",
    "table_name = create_table(cur, \"Population\", 0, 2025)\n",
    "print(table_name)\n",
    "conn.commit()"
   ]
  },
  {
   "cell_type": "code",
   "execution_count": 72,
   "id": "60dd73c5-96c3-4bfb-bffe-6d59cb53b41c",
   "metadata": {},
   "outputs": [],
   "source": [
    "cur = conn.cursor()\n",
    "load_csv(cur, table_name, './landing/persistent/extracted/mort_pop-3b8f463ba095690338a8d9692ab4bb0457639eefff12c9df7486c1cdaf7ac833-1642852775.50846/pop')\n",
    "conn.commit()"
   ]
  }
 ],
 "metadata": {
  "kernelspec": {
   "display_name": "Python 3",
   "language": "python",
   "name": "python3"
  },
  "language_info": {
   "codemirror_mode": {
    "name": "ipython",
    "version": 3
   },
   "file_extension": ".py",
   "mimetype": "text/x-python",
   "name": "python",
   "nbconvert_exporter": "python",
   "pygments_lexer": "ipython3",
   "version": "3.8.9"
  }
 },
 "nbformat": 4,
 "nbformat_minor": 5
}
