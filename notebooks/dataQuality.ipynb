{
 "cells": [
  {
   "cell_type": "code",
   "execution_count": 156,
   "metadata": {},
   "outputs": [],
   "source": [
    "from dotenv import dotenv_values\n",
    "config = dotenv_values(\".env\")"
   ]
  },
  {
   "cell_type": "code",
   "execution_count": 157,
   "metadata": {},
   "outputs": [],
   "source": [
    "import pandas as pd\n",
    "import psycopg2\n",
    "conn = psycopg2.connect(dbname=config['DBNAME'], user=config['USER'], password=config['PASSWORD'])"
   ]
  },
  {
   "cell_type": "code",
   "execution_count": 158,
   "metadata": {},
   "outputs": [
    {
     "data": {
      "text/html": [
       "<div>\n",
       "<style scoped>\n",
       "    .dataframe tbody tr th:only-of-type {\n",
       "        vertical-align: middle;\n",
       "    }\n",
       "\n",
       "    .dataframe tbody tr th {\n",
       "        vertical-align: top;\n",
       "    }\n",
       "\n",
       "    .dataframe thead th {\n",
       "        text-align: right;\n",
       "    }\n",
       "</style>\n",
       "<table border=\"1\" class=\"dataframe\">\n",
       "  <thead>\n",
       "    <tr style=\"text-align: right;\">\n",
       "      <th></th>\n",
       "      <th>table_name</th>\n",
       "    </tr>\n",
       "  </thead>\n",
       "  <tbody>\n",
       "    <tr>\n",
       "      <th>0</th>\n",
       "      <td>morticd_10_1_f695_1642950107</td>\n",
       "    </tr>\n",
       "    <tr>\n",
       "      <th>1</th>\n",
       "      <td>morticd_10_3_1c6a_1642928618</td>\n",
       "    </tr>\n",
       "    <tr>\n",
       "      <th>2</th>\n",
       "      <td>morticd_10_4_453e_1642928618</td>\n",
       "    </tr>\n",
       "    <tr>\n",
       "      <th>3</th>\n",
       "      <td>notes_0_a67b_1642928619</td>\n",
       "    </tr>\n",
       "    <tr>\n",
       "      <th>4</th>\n",
       "      <td>population_0_3b8f_1642928619</td>\n",
       "    </tr>\n",
       "    <tr>\n",
       "      <th>5</th>\n",
       "      <td>demographiccountry_0_e0e0_1642950106</td>\n",
       "    </tr>\n",
       "    <tr>\n",
       "      <th>6</th>\n",
       "      <td>demographic_0_76f7_1642950106</td>\n",
       "    </tr>\n",
       "    <tr>\n",
       "      <th>7</th>\n",
       "      <td>demographiclabels_0_e8a5_1642950107</td>\n",
       "    </tr>\n",
       "    <tr>\n",
       "      <th>8</th>\n",
       "      <td>morticd_7_22b4_1642950107</td>\n",
       "    </tr>\n",
       "    <tr>\n",
       "      <th>9</th>\n",
       "      <td>morticd_8_9366_1642950107</td>\n",
       "    </tr>\n",
       "    <tr>\n",
       "      <th>10</th>\n",
       "      <td>morticd_9_71c9_1642950107</td>\n",
       "    </tr>\n",
       "    <tr>\n",
       "      <th>11</th>\n",
       "      <td>morticd_10_2_ffb1_1642950108</td>\n",
       "    </tr>\n",
       "    <tr>\n",
       "      <th>12</th>\n",
       "      <td>morticd_10_3_1c6a_1642950108</td>\n",
       "    </tr>\n",
       "    <tr>\n",
       "      <th>13</th>\n",
       "      <td>morticd_10_4_453e_1642950109</td>\n",
       "    </tr>\n",
       "    <tr>\n",
       "      <th>14</th>\n",
       "      <td>countrycodes_0_8c41_1642950109</td>\n",
       "    </tr>\n",
       "    <tr>\n",
       "      <th>15</th>\n",
       "      <td>notes_0_a67b_1642950109</td>\n",
       "    </tr>\n",
       "    <tr>\n",
       "      <th>16</th>\n",
       "      <td>population_0_3b8f_1642950109</td>\n",
       "    </tr>\n",
       "  </tbody>\n",
       "</table>\n",
       "</div>"
      ],
      "text/plain": [
       "                              table_name\n",
       "0           morticd_10_1_f695_1642950107\n",
       "1           morticd_10_3_1c6a_1642928618\n",
       "2           morticd_10_4_453e_1642928618\n",
       "3                notes_0_a67b_1642928619\n",
       "4           population_0_3b8f_1642928619\n",
       "5   demographiccountry_0_e0e0_1642950106\n",
       "6          demographic_0_76f7_1642950106\n",
       "7    demographiclabels_0_e8a5_1642950107\n",
       "8              morticd_7_22b4_1642950107\n",
       "9              morticd_8_9366_1642950107\n",
       "10             morticd_9_71c9_1642950107\n",
       "11          morticd_10_2_ffb1_1642950108\n",
       "12          morticd_10_3_1c6a_1642950108\n",
       "13          morticd_10_4_453e_1642950109\n",
       "14        countrycodes_0_8c41_1642950109\n",
       "15               notes_0_a67b_1642950109\n",
       "16          population_0_3b8f_1642950109"
      ]
     },
     "execution_count": 158,
     "metadata": {},
     "output_type": "execute_result"
    }
   ],
   "source": [
    "# Get last date tables\n",
    "df_tables = pd.read_sql('SELECT table_name FROM information_schema.tables WHERE table_schema=\\'' + config['SCHEMA'] +'\\'   AND table_type=\\'BASE TABLE\\';', conn)\n",
    "df_tables"
   ]
  },
  {
   "cell_type": "code",
   "execution_count": 159,
   "metadata": {},
   "outputs": [
    {
     "data": {
      "text/plain": [
       "'16429501'"
      ]
     },
     "execution_count": 159,
     "metadata": {},
     "output_type": "execute_result"
    }
   ],
   "source": [
    "max_timestamp = df_tables['table_name'].apply(lambda x: x[x.rfind('_') +1 :-2]).max()\n",
    "max_timestamp\n"
   ]
  },
  {
   "cell_type": "code",
   "execution_count": 160,
   "metadata": {},
   "outputs": [
    {
     "data": {
      "text/html": [
       "<div>\n",
       "<style scoped>\n",
       "    .dataframe tbody tr th:only-of-type {\n",
       "        vertical-align: middle;\n",
       "    }\n",
       "\n",
       "    .dataframe tbody tr th {\n",
       "        vertical-align: top;\n",
       "    }\n",
       "\n",
       "    .dataframe thead th {\n",
       "        text-align: right;\n",
       "    }\n",
       "</style>\n",
       "<table border=\"1\" class=\"dataframe\">\n",
       "  <thead>\n",
       "    <tr style=\"text-align: right;\">\n",
       "      <th></th>\n",
       "      <th>table_name</th>\n",
       "    </tr>\n",
       "  </thead>\n",
       "  <tbody>\n",
       "    <tr>\n",
       "      <th>0</th>\n",
       "      <td>morticd_10_1_f695_1642950107</td>\n",
       "    </tr>\n",
       "    <tr>\n",
       "      <th>5</th>\n",
       "      <td>demographiccountry_0_e0e0_1642950106</td>\n",
       "    </tr>\n",
       "    <tr>\n",
       "      <th>6</th>\n",
       "      <td>demographic_0_76f7_1642950106</td>\n",
       "    </tr>\n",
       "    <tr>\n",
       "      <th>7</th>\n",
       "      <td>demographiclabels_0_e8a5_1642950107</td>\n",
       "    </tr>\n",
       "    <tr>\n",
       "      <th>8</th>\n",
       "      <td>morticd_7_22b4_1642950107</td>\n",
       "    </tr>\n",
       "    <tr>\n",
       "      <th>9</th>\n",
       "      <td>morticd_8_9366_1642950107</td>\n",
       "    </tr>\n",
       "    <tr>\n",
       "      <th>10</th>\n",
       "      <td>morticd_9_71c9_1642950107</td>\n",
       "    </tr>\n",
       "    <tr>\n",
       "      <th>11</th>\n",
       "      <td>morticd_10_2_ffb1_1642950108</td>\n",
       "    </tr>\n",
       "    <tr>\n",
       "      <th>12</th>\n",
       "      <td>morticd_10_3_1c6a_1642950108</td>\n",
       "    </tr>\n",
       "    <tr>\n",
       "      <th>13</th>\n",
       "      <td>morticd_10_4_453e_1642950109</td>\n",
       "    </tr>\n",
       "    <tr>\n",
       "      <th>14</th>\n",
       "      <td>countrycodes_0_8c41_1642950109</td>\n",
       "    </tr>\n",
       "    <tr>\n",
       "      <th>15</th>\n",
       "      <td>notes_0_a67b_1642950109</td>\n",
       "    </tr>\n",
       "    <tr>\n",
       "      <th>16</th>\n",
       "      <td>population_0_3b8f_1642950109</td>\n",
       "    </tr>\n",
       "  </tbody>\n",
       "</table>\n",
       "</div>"
      ],
      "text/plain": [
       "                              table_name\n",
       "0           morticd_10_1_f695_1642950107\n",
       "5   demographiccountry_0_e0e0_1642950106\n",
       "6          demographic_0_76f7_1642950106\n",
       "7    demographiclabels_0_e8a5_1642950107\n",
       "8              morticd_7_22b4_1642950107\n",
       "9              morticd_8_9366_1642950107\n",
       "10             morticd_9_71c9_1642950107\n",
       "11          morticd_10_2_ffb1_1642950108\n",
       "12          morticd_10_3_1c6a_1642950108\n",
       "13          morticd_10_4_453e_1642950109\n",
       "14        countrycodes_0_8c41_1642950109\n",
       "15               notes_0_a67b_1642950109\n",
       "16          population_0_3b8f_1642950109"
      ]
     },
     "execution_count": 160,
     "metadata": {},
     "output_type": "execute_result"
    }
   ],
   "source": [
    "df_lastupdate_tables = df_tables['table_name'].apply(lambda x: max_timestamp in x)\n",
    "df_tables[df_lastupdate_tables]"
   ]
  },
  {
   "cell_type": "code",
   "execution_count": 161,
   "metadata": {},
   "outputs": [],
   "source": [
    "mortic_dataframes = []\n",
    "demo_dataframes = []\n",
    "general_dataframes = []\n",
    "for table in df_tables[df_lastupdate_tables]['table_name']:\n",
    "    firstDash = str(table).index('_', 0)\n",
    "    lastDash = str(table).rindex('_')\n",
    "    secondlastDash = str(table).rindex('_', lastDash)\n",
    "    dfname = str(table[:secondlastDash])\n",
    "    if  dfname.count('_') >= 2:\n",
    "        lastDash = dfname.rindex('_')\n",
    "        dfname = dfname[:lastDash]\n",
    "    if 'morticd' in dfname:\n",
    "        mortic_dataframes.append('df_' + dfname)\n",
    "    elif 'demo' in dfname:\n",
    "        demo_dataframes.append('df_' + dfname)\n",
    "    else:\n",
    "        general_dataframes.append('df_' + dfname)\n",
    "    globals()['df_' + dfname] = pd.read_sql('SELECT * from ' + config['SCHEMA'] + '.' + table + ';', conn)"
   ]
  },
  {
   "cell_type": "code",
   "execution_count": 176,
   "metadata": {},
   "outputs": [
    {
     "data": {
      "text/plain": [
       "['df_demographiccountry_0', 'df_demographic_0', 'df_demographiclabels_0']"
      ]
     },
     "execution_count": 176,
     "metadata": {},
     "output_type": "execute_result"
    }
   ],
   "source": [
    "demo_dataframes"
   ]
  },
  {
   "cell_type": "code",
   "execution_count": 163,
   "metadata": {},
   "outputs": [
    {
     "data": {
      "text/plain": [
       "['df_morticd_10_1',\n",
       " 'df_morticd_7',\n",
       " 'df_morticd_8',\n",
       " 'df_morticd_9',\n",
       " 'df_morticd_10_2',\n",
       " 'df_morticd_10_3',\n",
       " 'df_morticd_10_4']"
      ]
     },
     "execution_count": 163,
     "metadata": {},
     "output_type": "execute_result"
    }
   ],
   "source": [
    "mortic_dataframes"
   ]
  },
  {
   "cell_type": "code",
   "execution_count": 164,
   "metadata": {},
   "outputs": [
    {
     "data": {
      "text/plain": [
       "['df_countrycodes_0', 'df_notes_0', 'df_population_0']"
      ]
     },
     "execution_count": 164,
     "metadata": {},
     "output_type": "execute_result"
    }
   ],
   "source": [
    "general_dataframes"
   ]
  },
  {
   "cell_type": "code",
   "execution_count": 165,
   "metadata": {},
   "outputs": [],
   "source": [
    "# Check if morticd countries are in countrycode country\n",
    "def getCountryCodedf():\n",
    "    for name in globals().keys():\n",
    "        if 'countrycode' in name: \n",
    "            return name\n",
    "\n",
    "df_countryCode = getCountryCodedf()\n",
    "  \n",
    "for dataframe in mortic_dataframes[0:2]:\n",
    "    globals()[str(dataframe)]['CountryWrongCode'] = globals()[str(dataframe)]['Country'].apply(lambda x: x in globals()[str(df_countryCode)].Country)"
   ]
  },
  {
   "cell_type": "code",
   "execution_count": 166,
   "metadata": {},
   "outputs": [
    {
     "name": "stdout",
     "output_type": "stream",
     "text": [
      "df_morticd_10_1\n",
      "df_morticd_7\n",
      "df_morticd_8\n",
      "df_morticd_9\n",
      "df_morticd_10_2\n",
      "df_morticd_10_3\n",
      "df_morticd_10_4\n"
     ]
    }
   ],
   "source": [
    "# Check morticd Size\n",
    "for mortic_dataframe in mortic_dataframes:\n",
    "    print(mortic_dataframe)\n",
    "    globals()[str(mortic_dataframe)]['CountryWrongSize'] = globals()[str(mortic_dataframe)]['Country'].apply(lambda x: x != None and len(str(x)) != 4)\n",
    "    globals()[str(mortic_dataframe)]['Admin1WrongSize'] = globals()[str(mortic_dataframe)]['Admin1'].apply(lambda x: x != None and len(str(x)) != 3)\n",
    "    globals()[str(mortic_dataframe)]['SubDivWrongSize'] = globals()[str(mortic_dataframe)]['SubDiv'].apply(lambda x: x != None and len(str(x)) != 3)\n",
    "    globals()[str(mortic_dataframe)]['YearWrongSize'] = globals()[str(mortic_dataframe)]['Year'].apply(lambda x: x != None and len(str(x)) != 4)\n",
    "    globals()[str(mortic_dataframe)]['ListWrongSize'] = globals()[str(mortic_dataframe)]['List'].apply(lambda x: x != None and len(str(x)) != 3)\n",
    "    globals()[str(mortic_dataframe)]['CauseWrongSize'] = globals()[str(mortic_dataframe)]['Cause'].apply(lambda x: x != None and len(str(x)) > 4)\n",
    "    globals()[str(mortic_dataframe)]['SexWrongSize'] = globals()[str(mortic_dataframe)]['Sex'].apply(lambda x: x != None and len(str(x)) != 1)\n",
    "    globals()[str(mortic_dataframe)]['FrmatWrongSize'] = globals()[str(mortic_dataframe)]['Frmat'].apply(lambda x: x != None and len(str(x)) != 2)\n",
    "    globals()[str(mortic_dataframe)]['IM_FrmatWrongSize'] = globals()[str(mortic_dataframe)]['IM_Frmat'].apply(lambda x: x != None and len(str(x)) != 2)"
   ]
  },
  {
   "cell_type": "code",
   "execution_count": 167,
   "metadata": {},
   "outputs": [],
   "source": [
    "for dataframe in mortic_dataframes[0:1]:\n",
    "    death_colnames = globals()[str(dataframe)].filter(regex=(\"Deaths*\")).columns\n",
    "\n",
    "death_colnames\n",
    "\n",
    "for death in death_colnames:    \n",
    "    globals()[str(dataframe)][death + 'WrongSize'] = globals()[str(dataframe)][death].apply(lambda x: len(str(x)) > 8)\n",
    "    globals()[str(dataframe)][death + 'WrongValue'] = globals()[str(dataframe)][death].apply(lambda x: x < 0)   "
   ]
  },
  {
   "cell_type": "code",
   "execution_count": 135,
   "metadata": {},
   "outputs": [],
   "source": [
    "df_demo_country = pd.read_sql('SELECT * from formatted.demographiccountry_0_e0e0_1642950106;', conn)\n",
    "df_demo_labels = pd.read_sql('SELECT * from formatted.demographiclabels_0_e8a5_1642950107;', conn)\n",
    "df_demo_indic = pd.read_sql('SELECT * from formatted.demographic_0_76f7_1642950106;', conn)"
   ]
  },
  {
   "cell_type": "code",
   "execution_count": 178,
   "metadata": {},
   "outputs": [
    {
     "data": {
      "text/plain": [
       "'df_demographiccountry_0'"
      ]
     },
     "execution_count": 178,
     "metadata": {},
     "output_type": "execute_result"
    }
   ],
   "source": [
    "def getDemoCountrydf():\n",
    "    for name in globals().keys():\n",
    "        if 'demographiccountry' in name: \n",
    "            return name\n",
    "\n",
    "df_demo_country = getDemoCountrydf()"
   ]
  },
  {
   "cell_type": "code",
   "execution_count": 179,
   "metadata": {},
   "outputs": [
    {
     "data": {
      "text/plain": [
       "'df_demographiclabels_0'"
      ]
     },
     "execution_count": 179,
     "metadata": {},
     "output_type": "execute_result"
    }
   ],
   "source": [
    "def getDemoLabelsdf():\n",
    "    for name in globals().keys():\n",
    "        if 'demographiclabels' in name: \n",
    "            return name\n",
    "\n",
    "df_demo_labels_code = getDemoLabelsdf()"
   ]
  },
  {
   "cell_type": "code",
   "execution_count": 181,
   "metadata": {},
   "outputs": [
    {
     "data": {
      "text/plain": [
       "'df_demographiccountry_0'"
      ]
     },
     "execution_count": 181,
     "metadata": {},
     "output_type": "execute_result"
    }
   ],
   "source": [
    "def getDemoIndicdf():\n",
    "    for name in globals().keys():\n",
    "        if 'df_demographic' in name: \n",
    "            return name\n",
    "\n",
    "df_demo_indic = getDemoIndicdf()"
   ]
  },
  {
   "cell_type": "code",
   "execution_count": 193,
   "metadata": {},
   "outputs": [],
   "source": [
    "# Check if demographic country codes are in demographic country table\n",
    "globals()[str(df_demo_indic)]['CodeWrongId'] = globals()[str(df_demo_indic)]['Code'].apply(lambda x: x in globals()[str(df_demo_country)].Code)"
   ]
  },
  {
   "cell_type": "code",
   "execution_count": 197,
   "metadata": {},
   "outputs": [],
   "source": [
    "# Check size Demographic label columns\n",
    "globals()[str(df_demo_labels_code)]['IndicatorWrongSize'] = globals()[str(df_demo_labels_code)]['Indicator'].apply(lambda x: x != None and len(str(x))  != 50)\n",
    "globals()[str(df_demo_labels_code)]['DescriptionWrongSize'] = globals()[str(df_demo_labels_code)]['Description'].apply(lambda x: x != None and len(str(x))  != 100)"
   ]
  },
  {
   "cell_type": "code",
   "execution_count": 199,
   "metadata": {},
   "outputs": [],
   "source": [
    "# Check size Demographic country columns\n",
    "globals()[str(df_demo_country)]['CodeWrongSize'] = globals()[str(df_demo_country)]['Code'].apply(lambda x: x != None and len(str(x))  != 3)\n",
    "globals()[str(df_demo_country)]['NameWrongSize'] = globals()[str(df_demo_country)]['Name'].apply(lambda x: x != None and len(str(x))  != 100)"
   ]
  },
  {
   "cell_type": "code",
   "execution_count": 207,
   "metadata": {},
   "outputs": [],
   "source": [
    "# Check Uniques Demographic Country\n",
    "def getDemoCountrydf():\n",
    "    for name in globals().keys():\n",
    "        if 'demographiccountry' in name: \n",
    "            return name\n",
    "\n",
    "df_demo_country = getDemoCountrydf()\n",
    "\n",
    "df_demo_country_unique = pd.DataFrame(globals()[str(df_demo_country)]['Code'].value_counts())\n",
    "globals()[str(df_demo_country)]['CodeWrongUnique'] = df_demo_country_unique['Code'] > 2"
   ]
  },
  {
   "cell_type": "code",
   "execution_count": 210,
   "metadata": {},
   "outputs": [],
   "source": [
    "# Check Uniques Demographic Labels\n",
    "def getDemoLabelsdf():\n",
    "    for name in globals().keys():\n",
    "        if 'demographiclabels' in name: \n",
    "            return name\n",
    "\n",
    "df_demo_labels_code = getDemoLabelsdf()\n",
    "\n",
    "df_demo_labels_unique = pd.DataFrame(globals()[str(df_demo_labels_code)]['Indicator'].value_counts())\n",
    "globals()[str(df_demo_labels_code)]['IndicatorWrongUnique'] = df_demo_labels_unique['Indicator'] > 2"
   ]
  },
  {
   "cell_type": "code",
   "execution_count": 216,
   "metadata": {},
   "outputs": [],
   "source": [
    "# Check Uniques Country codes\n",
    "df_country_code_unique = pd.DataFrame(globals()[str(df_countryCode)]['Country'].value_counts())\n",
    "globals()[str(df_countryCode)]['CountryWrongUnique'] = df_country_code_unique['Country'] > 2"
   ]
  },
  {
   "cell_type": "code",
   "execution_count": 217,
   "metadata": {},
   "outputs": [
    {
     "data": {
      "text/plain": [
       "Index(['CountryWrongCode', 'CountryWrongSize', 'Admin1WrongSize',\n",
       "       'SubDivWrongSize', 'YearWrongSize', 'ListWrongSize', 'CauseWrongSize',\n",
       "       'SexWrongSize', 'FrmatWrongSize', 'IM_FrmatWrongSize',\n",
       "       'Deaths1WrongSize', 'Deaths1WrongValue', 'Deaths2WrongSize',\n",
       "       'Deaths2WrongValue', 'Deaths3WrongSize', 'Deaths3WrongValue',\n",
       "       'Deaths4WrongSize', 'Deaths4WrongValue', 'Deaths5WrongSize',\n",
       "       'Deaths5WrongValue', 'Deaths6WrongSize', 'Deaths6WrongValue',\n",
       "       'Deaths7WrongSize', 'Deaths7WrongValue', 'Deaths8WrongSize',\n",
       "       'Deaths8WrongValue', 'Deaths9WrongSize', 'Deaths9WrongValue',\n",
       "       'Deaths10WrongSize', 'Deaths10WrongValue', 'Deaths11WrongSize',\n",
       "       'Deaths11WrongValue', 'Deaths12WrongSize', 'Deaths12WrongValue',\n",
       "       'Deaths13WrongSize', 'Deaths13WrongValue', 'Deaths14WrongSize',\n",
       "       'Deaths14WrongValue', 'Deaths15WrongSize', 'Deaths15WrongValue',\n",
       "       'Deaths16WrongSize', 'Deaths16WrongValue', 'Deaths17WrongSize',\n",
       "       'Deaths17WrongValue', 'Deaths18WrongSize', 'Deaths18WrongValue',\n",
       "       'Deaths19WrongSize', 'Deaths19WrongValue', 'Deaths20WrongSize',\n",
       "       'Deaths20WrongValue', 'Deaths21WrongSize', 'Deaths21WrongValue',\n",
       "       'Deaths22WrongSize', 'Deaths22WrongValue', 'Deaths23WrongSize',\n",
       "       'Deaths23WrongValue', 'Deaths24WrongSize', 'Deaths24WrongValue',\n",
       "       'Deaths25WrongSize', 'Deaths25WrongValue', 'Deaths26WrongSize',\n",
       "       'Deaths26WrongValue', 'IM_Deaths1WrongSize', 'IM_Deaths1WrongValue',\n",
       "       'IM_Deaths2WrongSize', 'IM_Deaths2WrongValue', 'IM_Deaths3WrongSize',\n",
       "       'IM_Deaths3WrongValue', 'IM_Deaths4WrongSize', 'IM_Deaths4WrongValue'],\n",
       "      dtype='object')"
      ]
     },
     "execution_count": 217,
     "metadata": {},
     "output_type": "execute_result"
    }
   ],
   "source": [
    "for dataframe in mortic_dataframes[0:1]:\n",
    "    wrongs_mortic = globals()[str(dataframe)].filter(regex=(\".Wrong*\")).columns\n",
    "wrongs_mortic"
   ]
  },
  {
   "cell_type": "code",
   "execution_count": 218,
   "metadata": {},
   "outputs": [
    {
     "data": {
      "text/plain": [
       "Index(['CodeWrongId', 'CodeWrongSize', 'NameWrongSize', 'CodeWrongUnique'], dtype='object')"
      ]
     },
     "execution_count": 218,
     "metadata": {},
     "output_type": "execute_result"
    }
   ],
   "source": [
    "for dataframe in demo_dataframes[0:1]:\n",
    "    wrongs_demo = globals()[str(dataframe)].filter(regex=(\".Wrong*\")).columns\n",
    "wrongs_demo"
   ]
  },
  {
   "cell_type": "code",
   "execution_count": 219,
   "metadata": {},
   "outputs": [],
   "source": [
    "for dataframe in mortic_dataframes[0:1]:\n",
    "   for wrong_col in wrongs_mortic:\n",
    "      if len(globals()[str(dataframe)][globals()[str(dataframe)][wrong_col] == True]) > 0:\n",
    "         print(wrong_col)"
   ]
  },
  {
   "cell_type": "code",
   "execution_count": 221,
   "metadata": {},
   "outputs": [
    {
     "name": "stdout",
     "output_type": "stream",
     "text": [
      "NameWrongSize\n"
     ]
    }
   ],
   "source": [
    "for dataframe in demo_dataframes[0:1]:\n",
    "   for wrong_col in wrongs_demo:\n",
    "      if len(globals()[str(dataframe)][globals()[str(dataframe)][wrong_col] == True]) > 0:\n",
    "         print(wrong_col)"
   ]
  }
 ],
 "metadata": {
  "interpreter": {
   "hash": "34c652a1680248fd83292c4391b75096cc5e1246697fe6a9dafc671d4727a030"
  },
  "kernelspec": {
   "display_name": "Python 3.9.10 64-bit (windows store)",
   "language": "python",
   "name": "python3"
  },
  "language_info": {
   "codemirror_mode": {
    "name": "ipython",
    "version": 3
   },
   "file_extension": ".py",
   "mimetype": "text/x-python",
   "name": "python",
   "nbconvert_exporter": "python",
   "pygments_lexer": "ipython3",
   "version": "3.9.10"
  },
  "orig_nbformat": 4
 },
 "nbformat": 4,
 "nbformat_minor": 2
}
