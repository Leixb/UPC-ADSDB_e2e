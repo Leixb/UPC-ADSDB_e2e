{
 "cells": [
  {
   "cell_type": "code",
   "execution_count": 1,
   "id": "aa3e922f-ee8e-4cb3-8884-91c307a6a97a",
   "metadata": {},
   "outputs": [],
   "source": [
    "import psycopg2\n",
    "import os\n",
    "import pandas as pd"
   ]
  },
  {
   "cell_type": "code",
   "execution_count": 10,
   "id": "092a1913-a68e-4aca-af56-d70232330167",
   "metadata": {},
   "outputs": [],
   "source": [
    "conn = psycopg2.connect(dbname=\"adsdb\", user=\"adsdb\")"
   ]
  },
  {
   "cell_type": "code",
   "execution_count": 11,
   "id": "1f0d50f8-cf64-48c7-a074-f5e99bb5bf36",
   "metadata": {},
   "outputs": [],
   "source": [
    "cur = conn.cursor()"
   ]
  },
  {
   "cell_type": "code",
   "execution_count": 4,
   "id": "9f46304c-100d-402c-9bc2-80a811077c7a",
   "metadata": {},
   "outputs": [],
   "source": [
    "cur.execute(\"\"\"SELECT table_name FROM information_schema.tables\n",
    "       WHERE table_schema = 'formatted'\"\"\")\n",
    "tables = cur.fetchall()"
   ]
  },
  {
   "cell_type": "code",
   "execution_count": 5,
   "id": "74d0ea65-8bda-4be2-be3a-49b592196506",
   "metadata": {},
   "outputs": [
    {
     "data": {
      "text/plain": [
       "[('demographiccountry_0_070d_1642868817',),\n",
       " ('countrycodes_0_8c41_1642852775',),\n",
       " ('notes_0_a67b_1642852775',),\n",
       " ('population_0_3b8f_1642852775',),\n",
       " ('morticd_7_22b4_1642852775',),\n",
       " ('morticd_8_9366_1642852775',),\n",
       " ('morticd_9_71c9_1642852775',),\n",
       " ('morticd_10_1_f695_1642852776',),\n",
       " ('morticd_10_2_ffb1_1642852776',),\n",
       " ('morticd_10_3_1c6a_1642852776',),\n",
       " ('morticd_10_4_453e_1642852776',),\n",
       " ('morticd_10_5_8f17_1642852776',),\n",
       " ('countrycodes_0_8c41_1642868814',),\n",
       " ('notes_0_a67b_1642868814',),\n",
       " ('population_0_3b8f_1642868814',),\n",
       " ('morticd_7_22b4_1642868814',),\n",
       " ('morticd_8_9366_1642868814',),\n",
       " ('morticd_9_71c9_1642868814',),\n",
       " ('morticd_10_1_f695_1642868814',),\n",
       " ('morticd_10_2_ffb1_1642868815',),\n",
       " ('morticd_10_3_1c6a_1642868815',),\n",
       " ('morticd_10_4_453e_1642868816',),\n",
       " ('morticd_10_5_8f17_1642868816',),\n",
       " ('demographic_0_070d_1642868817',),\n",
       " ('demographiclabels_0_070d_1642868817',)]"
      ]
     },
     "execution_count": 5,
     "metadata": {},
     "output_type": "execute_result"
    }
   ],
   "source": [
    "tables"
   ]
  },
  {
   "cell_type": "code",
   "execution_count": 30,
   "id": "9fd6e159-a6ef-4a70-91ac-6b6acabe55f5",
   "metadata": {},
   "outputs": [
    {
     "name": "stdout",
     "output_type": "stream",
     "text": [
      "demographiccountry_0 070d 1642868817\n",
      "countrycodes_0 8c41 1642852775\n",
      "notes_0 a67b 1642852775\n",
      "population_0 3b8f 1642852775\n",
      "morticd_7 22b4 1642852775\n",
      "morticd_8 9366 1642852775\n",
      "morticd_9 71c9 1642852775\n",
      "morticd_10_1 f695 1642852776\n",
      "morticd_10_2 ffb1 1642852776\n",
      "morticd_10_3 1c6a 1642852776\n",
      "morticd_10_4 453e 1642852776\n",
      "morticd_10_5 8f17 1642852776\n",
      "countrycodes_0 8c41 1642868814\n",
      "notes_0 a67b 1642868814\n",
      "population_0 3b8f 1642868814\n",
      "morticd_7 22b4 1642868814\n",
      "morticd_8 9366 1642868814\n",
      "morticd_9 71c9 1642868814\n",
      "morticd_10_1 f695 1642868814\n",
      "morticd_10_2 ffb1 1642868815\n",
      "morticd_10_3 1c6a 1642868815\n",
      "morticd_10_4 453e 1642868816\n",
      "morticd_10_5 8f17 1642868816\n",
      "demographic_0 070d 1642868817\n",
      "demographiclabels_0 070d 1642868817\n"
     ]
    }
   ],
   "source": [
    "table_versions = dict()\n",
    "\n",
    "for table in tables:\n",
    "    name_sha, _ , timestamp = table[0].rpartition(\"_\")\n",
    "    name, _, sha256 = name_sha.rpartition(\"_\")\n",
    "    \n",
    "    print(name, sha256, timestamp)\n",
    "    \n",
    "    table_versions[name] = table_versions.get(name, []) + [(int(timestamp), sha256)]"
   ]
  },
  {
   "cell_type": "code",
   "execution_count": 33,
   "id": "60ce1fc4-8d31-442d-927a-b79b4ed2b6e7",
   "metadata": {},
   "outputs": [],
   "source": [
    "def table_name(name, ts_sha):\n",
    "    ts, sha = ts_sha\n",
    "    return \"formatted.\" + \"_\".join((name, sha, str(ts)))\n",
    "\n",
    "cur.execute(\"CREATE SCHEMA IF NOT EXISTS trusted;\")\n",
    "\n",
    "for k, v in table_versions.items():\n",
    "    # Order by timestamp (newest first)\n",
    "    v = sorted(v)\n",
    "    \n",
    "    new_table = f\"trusted.{k}\"\n",
    "\n",
    "    # Load all the newest data into new table\n",
    "    cur.execute(f'''\n",
    "    CREATE TABLE  IF NOT EXISTS {new_table} AS \n",
    "        TABLE {table_name(k, v[0])};\n",
    "    ''')"
   ]
  },
  {
   "cell_type": "code",
   "execution_count": 34,
   "id": "a196ffd6-f82a-4e24-8951-d0162ef641e1",
   "metadata": {},
   "outputs": [],
   "source": [
    "conn.commit()"
   ]
  }
 ],
 "metadata": {
  "kernelspec": {
   "display_name": "Python 3",
   "language": "python",
   "name": "python3"
  },
  "language_info": {
   "codemirror_mode": {
    "name": "ipython",
    "version": 3
   },
   "file_extension": ".py",
   "mimetype": "text/x-python",
   "name": "python",
   "nbconvert_exporter": "python",
   "pygments_lexer": "ipython3",
   "version": "3.8.9"
  }
 },
 "nbformat": 4,
 "nbformat_minor": 5
}
