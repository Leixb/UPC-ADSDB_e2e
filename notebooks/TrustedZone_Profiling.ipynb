{
 "cells": [
  {
   "cell_type": "code",
   "execution_count": 33,
   "metadata": {},
   "outputs": [],
   "source": [
    "import pandas as pd\n",
    "import psycopg2\n",
    "import numpy as np\n",
    "import seaborn as sns\n",
    "import matplotlib.pyplot as plt\n",
    "import pandas_profiling\n",
    "%matplotlib inline\n",
    "pd.set_option('display.max_rows', None) # or 1000."
   ]
  },
  {
   "cell_type": "code",
   "execution_count": 16,
   "metadata": {},
   "outputs": [],
   "source": [
    "from dotenv import dotenv_values\n",
    "config = dotenv_values(\"../.env\")"
   ]
  },
  {
   "cell_type": "code",
   "execution_count": 17,
   "metadata": {},
   "outputs": [
    {
     "data": {
      "text/plain": [
       "OrderedDict([('DBNAME', 'adsdb'),\n",
       "             ('USER', 'postgres'),\n",
       "             ('PASSWORD', 'postgresadmin'),\n",
       "             ('SCHEMA', 'formatted')])"
      ]
     },
     "execution_count": 17,
     "metadata": {},
     "output_type": "execute_result"
    }
   ],
   "source": [
    "config"
   ]
  },
  {
   "cell_type": "code",
   "execution_count": 18,
   "metadata": {},
   "outputs": [],
   "source": [
    "conn = psycopg2.connect(dbname=config['DBNAME'], user=config['USER'], password=config['PASSWORD'])"
   ]
  },
  {
   "cell_type": "code",
   "execution_count": 19,
   "metadata": {},
   "outputs": [
    {
     "data": {
      "text/html": [
       "<div>\n",
       "<style scoped>\n",
       "    .dataframe tbody tr th:only-of-type {\n",
       "        vertical-align: middle;\n",
       "    }\n",
       "\n",
       "    .dataframe tbody tr th {\n",
       "        vertical-align: top;\n",
       "    }\n",
       "\n",
       "    .dataframe thead th {\n",
       "        text-align: right;\n",
       "    }\n",
       "</style>\n",
       "<table border=\"1\" class=\"dataframe\">\n",
       "  <thead>\n",
       "    <tr style=\"text-align: right;\">\n",
       "      <th></th>\n",
       "      <th>table_name</th>\n",
       "    </tr>\n",
       "  </thead>\n",
       "  <tbody>\n",
       "    <tr>\n",
       "      <th>0</th>\n",
       "      <td>morticd_10_1_f695_1642950107</td>\n",
       "    </tr>\n",
       "    <tr>\n",
       "      <th>1</th>\n",
       "      <td>morticd_10_3_1c6a_1642928618</td>\n",
       "    </tr>\n",
       "    <tr>\n",
       "      <th>2</th>\n",
       "      <td>morticd_10_4_453e_1642928618</td>\n",
       "    </tr>\n",
       "    <tr>\n",
       "      <th>3</th>\n",
       "      <td>notes_0_a67b_1642928619</td>\n",
       "    </tr>\n",
       "    <tr>\n",
       "      <th>4</th>\n",
       "      <td>population_0_3b8f_1642928619</td>\n",
       "    </tr>\n",
       "    <tr>\n",
       "      <th>5</th>\n",
       "      <td>demographiccountry_0_e0e0_1642950106</td>\n",
       "    </tr>\n",
       "    <tr>\n",
       "      <th>6</th>\n",
       "      <td>demographic_0_76f7_1642950106</td>\n",
       "    </tr>\n",
       "    <tr>\n",
       "      <th>7</th>\n",
       "      <td>demographiclabels_0_e8a5_1642950107</td>\n",
       "    </tr>\n",
       "    <tr>\n",
       "      <th>8</th>\n",
       "      <td>morticd_7_22b4_1642950107</td>\n",
       "    </tr>\n",
       "    <tr>\n",
       "      <th>9</th>\n",
       "      <td>morticd_8_9366_1642950107</td>\n",
       "    </tr>\n",
       "    <tr>\n",
       "      <th>10</th>\n",
       "      <td>morticd_9_71c9_1642950107</td>\n",
       "    </tr>\n",
       "    <tr>\n",
       "      <th>11</th>\n",
       "      <td>morticd_10_2_ffb1_1642950108</td>\n",
       "    </tr>\n",
       "    <tr>\n",
       "      <th>12</th>\n",
       "      <td>morticd_10_3_1c6a_1642950108</td>\n",
       "    </tr>\n",
       "    <tr>\n",
       "      <th>13</th>\n",
       "      <td>morticd_10_4_453e_1642950109</td>\n",
       "    </tr>\n",
       "    <tr>\n",
       "      <th>14</th>\n",
       "      <td>countrycodes_0_8c41_1642950109</td>\n",
       "    </tr>\n",
       "    <tr>\n",
       "      <th>15</th>\n",
       "      <td>notes_0_a67b_1642950109</td>\n",
       "    </tr>\n",
       "    <tr>\n",
       "      <th>16</th>\n",
       "      <td>population_0_3b8f_1642950109</td>\n",
       "    </tr>\n",
       "  </tbody>\n",
       "</table>\n",
       "</div>"
      ],
      "text/plain": [
       "                              table_name\n",
       "0           morticd_10_1_f695_1642950107\n",
       "1           morticd_10_3_1c6a_1642928618\n",
       "2           morticd_10_4_453e_1642928618\n",
       "3                notes_0_a67b_1642928619\n",
       "4           population_0_3b8f_1642928619\n",
       "5   demographiccountry_0_e0e0_1642950106\n",
       "6          demographic_0_76f7_1642950106\n",
       "7    demographiclabels_0_e8a5_1642950107\n",
       "8              morticd_7_22b4_1642950107\n",
       "9              morticd_8_9366_1642950107\n",
       "10             morticd_9_71c9_1642950107\n",
       "11          morticd_10_2_ffb1_1642950108\n",
       "12          morticd_10_3_1c6a_1642950108\n",
       "13          morticd_10_4_453e_1642950109\n",
       "14        countrycodes_0_8c41_1642950109\n",
       "15               notes_0_a67b_1642950109\n",
       "16          population_0_3b8f_1642950109"
      ]
     },
     "execution_count": 19,
     "metadata": {},
     "output_type": "execute_result"
    }
   ],
   "source": [
    "df_tables = pd.read_sql('SELECT table_name FROM information_schema.tables WHERE table_schema=\\'' + config['SCHEMA'] +'\\'   AND table_type=\\'BASE TABLE\\';', conn)\n",
    "df_tables"
   ]
  },
  {
   "cell_type": "code",
   "execution_count": 20,
   "metadata": {},
   "outputs": [
    {
     "data": {
      "text/plain": [
       "'16429501'"
      ]
     },
     "execution_count": 20,
     "metadata": {},
     "output_type": "execute_result"
    }
   ],
   "source": [
    "max_timestamp = df_tables['table_name'].apply(lambda x: x[x.rfind('_') +1 :-2]).max()\n",
    "max_timestamp"
   ]
  },
  {
   "cell_type": "code",
   "execution_count": 21,
   "metadata": {},
   "outputs": [
    {
     "data": {
      "text/html": [
       "<div>\n",
       "<style scoped>\n",
       "    .dataframe tbody tr th:only-of-type {\n",
       "        vertical-align: middle;\n",
       "    }\n",
       "\n",
       "    .dataframe tbody tr th {\n",
       "        vertical-align: top;\n",
       "    }\n",
       "\n",
       "    .dataframe thead th {\n",
       "        text-align: right;\n",
       "    }\n",
       "</style>\n",
       "<table border=\"1\" class=\"dataframe\">\n",
       "  <thead>\n",
       "    <tr style=\"text-align: right;\">\n",
       "      <th></th>\n",
       "      <th>table_name</th>\n",
       "    </tr>\n",
       "  </thead>\n",
       "  <tbody>\n",
       "    <tr>\n",
       "      <th>0</th>\n",
       "      <td>morticd_10_1_f695_1642950107</td>\n",
       "    </tr>\n",
       "    <tr>\n",
       "      <th>5</th>\n",
       "      <td>demographiccountry_0_e0e0_1642950106</td>\n",
       "    </tr>\n",
       "    <tr>\n",
       "      <th>6</th>\n",
       "      <td>demographic_0_76f7_1642950106</td>\n",
       "    </tr>\n",
       "    <tr>\n",
       "      <th>7</th>\n",
       "      <td>demographiclabels_0_e8a5_1642950107</td>\n",
       "    </tr>\n",
       "    <tr>\n",
       "      <th>8</th>\n",
       "      <td>morticd_7_22b4_1642950107</td>\n",
       "    </tr>\n",
       "    <tr>\n",
       "      <th>9</th>\n",
       "      <td>morticd_8_9366_1642950107</td>\n",
       "    </tr>\n",
       "    <tr>\n",
       "      <th>10</th>\n",
       "      <td>morticd_9_71c9_1642950107</td>\n",
       "    </tr>\n",
       "    <tr>\n",
       "      <th>11</th>\n",
       "      <td>morticd_10_2_ffb1_1642950108</td>\n",
       "    </tr>\n",
       "    <tr>\n",
       "      <th>12</th>\n",
       "      <td>morticd_10_3_1c6a_1642950108</td>\n",
       "    </tr>\n",
       "    <tr>\n",
       "      <th>13</th>\n",
       "      <td>morticd_10_4_453e_1642950109</td>\n",
       "    </tr>\n",
       "    <tr>\n",
       "      <th>14</th>\n",
       "      <td>countrycodes_0_8c41_1642950109</td>\n",
       "    </tr>\n",
       "    <tr>\n",
       "      <th>15</th>\n",
       "      <td>notes_0_a67b_1642950109</td>\n",
       "    </tr>\n",
       "    <tr>\n",
       "      <th>16</th>\n",
       "      <td>population_0_3b8f_1642950109</td>\n",
       "    </tr>\n",
       "  </tbody>\n",
       "</table>\n",
       "</div>"
      ],
      "text/plain": [
       "                              table_name\n",
       "0           morticd_10_1_f695_1642950107\n",
       "5   demographiccountry_0_e0e0_1642950106\n",
       "6          demographic_0_76f7_1642950106\n",
       "7    demographiclabels_0_e8a5_1642950107\n",
       "8              morticd_7_22b4_1642950107\n",
       "9              morticd_8_9366_1642950107\n",
       "10             morticd_9_71c9_1642950107\n",
       "11          morticd_10_2_ffb1_1642950108\n",
       "12          morticd_10_3_1c6a_1642950108\n",
       "13          morticd_10_4_453e_1642950109\n",
       "14        countrycodes_0_8c41_1642950109\n",
       "15               notes_0_a67b_1642950109\n",
       "16          population_0_3b8f_1642950109"
      ]
     },
     "execution_count": 21,
     "metadata": {},
     "output_type": "execute_result"
    }
   ],
   "source": [
    "df_lastupdate_tables = df_tables['table_name'].apply(lambda x: max_timestamp in x)\n",
    "df_tables[df_lastupdate_tables]"
   ]
  },
  {
   "cell_type": "code",
   "execution_count": 22,
   "metadata": {},
   "outputs": [],
   "source": [
    "mortic_dataframes = []\n",
    "demo_dataframes = []\n",
    "general_dataframes = []\n",
    "for table in df_tables[df_lastupdate_tables]['table_name']:\n",
    "    firstDash = str(table).index('_', 0)\n",
    "    lastDash = str(table).rindex('_')\n",
    "    secondlastDash = str(table).rindex('_', lastDash)\n",
    "    dfname = str(table[:secondlastDash])\n",
    "    if  dfname.count('_') >= 2:\n",
    "        lastDash = dfname.rindex('_')\n",
    "        dfname = dfname[:lastDash]\n",
    "    if 'morticd' in dfname:\n",
    "        mortic_dataframes.append('df_' + dfname)\n",
    "    elif 'demo' in dfname:\n",
    "        demo_dataframes.append('df_' + dfname)\n",
    "    else:\n",
    "        general_dataframes.append('df_' + dfname)\n",
    "    globals()['df_' + dfname] = pd.read_sql('SELECT * from ' + config['SCHEMA'] + '.' + table + ';', conn)"
   ]
  },
  {
   "cell_type": "code",
   "execution_count": 23,
   "metadata": {},
   "outputs": [
    {
     "data": {
      "text/plain": [
       "['df_demographiccountry_0', 'df_demographic_0', 'df_demographiclabels_0']"
      ]
     },
     "execution_count": 23,
     "metadata": {},
     "output_type": "execute_result"
    }
   ],
   "source": [
    "demo_dataframes"
   ]
  },
  {
   "cell_type": "code",
   "execution_count": 24,
   "metadata": {},
   "outputs": [
    {
     "data": {
      "text/plain": [
       "['df_morticd_10_1',\n",
       " 'df_morticd_7',\n",
       " 'df_morticd_8',\n",
       " 'df_morticd_9',\n",
       " 'df_morticd_10_2',\n",
       " 'df_morticd_10_3',\n",
       " 'df_morticd_10_4']"
      ]
     },
     "execution_count": 24,
     "metadata": {},
     "output_type": "execute_result"
    }
   ],
   "source": [
    "mortic_dataframes"
   ]
  },
  {
   "cell_type": "code",
   "execution_count": 25,
   "metadata": {},
   "outputs": [
    {
     "data": {
      "text/plain": [
       "['df_countrycodes_0', 'df_notes_0', 'df_population_0']"
      ]
     },
     "execution_count": 25,
     "metadata": {},
     "output_type": "execute_result"
    }
   ],
   "source": [
    "general_dataframes"
   ]
  },
  {
   "cell_type": "markdown",
   "metadata": {},
   "source": [
    "### Correlation matrix"
   ]
  },
  {
   "cell_type": "code",
   "execution_count": 27,
   "metadata": {},
   "outputs": [
    {
     "name": "stdout",
     "output_type": "stream",
     "text": [
      "df_morticd_10_1\n"
     ]
    },
    {
     "data": {
      "image/png": "[encoded data removed]",
      "text/plain": [
       "<Figure size 792x648 with 2 Axes>"
      ]
     },
     "metadata": {
      "needs_background": "light"
     },
     "output_type": "display_data"
    },
    {
     "name": "stdout",
     "output_type": "stream",
     "text": [
      "df_morticd_7\n"
     ]
    },
    {
     "data": {
      "image/png": "[encoded data removed]",
      "text/plain": [
       "<Figure size 792x648 with 2 Axes>"
      ]
     },
     "metadata": {
      "needs_background": "light"
     },
     "output_type": "display_data"
    }
   ],
   "source": [
    "for mortic_dataframe in mortic_dataframes:\n",
    "    print(str(mortic_dataframe))\n",
    "    df_num = globals()[str(mortic_dataframe)].select_dtypes(include=np.number)\n",
    "    corr = df_num.corr()\n",
    "    cmap = sns.diverging_palette(230, 20, as_cmap=True)\n",
    "    plt.subplots(figsize=(11, 9))\n",
    "    sns.heatmap(corr, cmap=cmap, vmax=.3, center=0,\n",
    "                square=True, linewidths=.5, cbar_kws={\"shrink\": .5})\n",
    "    plt.show()"
   ]
  },
  {
   "cell_type": "markdown",
   "metadata": {},
   "source": [
    "### General profiling"
   ]
  },
  {
   "cell_type": "code",
   "execution_count": 29,
   "metadata": {},
   "outputs": [
    {
     "data": {
      "text/plain": [
       "'df_demographic_0'"
      ]
     },
     "execution_count": 29,
     "metadata": {},
     "output_type": "execute_result"
    }
   ],
   "source": [
    "# Get Demographic Indicators\n",
    "def getDemoInddf():\n",
    "    for name in globals().keys():\n",
    "        if 'df_demographic_' in name: \n",
    "            return name\n",
    "\n",
    "df_demo_indic = getDemoInddf()\n",
    "df_demo_indic"
   ]
  },
  {
   "cell_type": "code",
   "execution_count": 30,
   "metadata": {},
   "outputs": [
    {
     "name": "stdout",
     "output_type": "stream",
     "text": [
      "df_demographic_0\n"
     ]
    },
    {
     "data": {
      "image/png": "[encoded data removed]",
      "text/plain": [
       "<Figure size 792x648 with 2 Axes>"
      ]
     },
     "metadata": {
      "needs_background": "light"
     },
     "output_type": "display_data"
    }
   ],
   "source": [
    "print(str(df_demo_indic))\n",
    "df_num = globals()[str(df_demo_indic)].select_dtypes(include=np.number)\n",
    "corr = df_num.corr()\n",
    "cmap = sns.diverging_palette(230, 20, as_cmap=True)\n",
    "plt.subplots(figsize=(11, 9))\n",
    "sns.heatmap(corr, cmap=cmap, vmax=.3, center=0,\n",
    "            square=True, linewidths=.5, cbar_kws={\"shrink\": .5})\n",
    "plt.show()"
   ]
  },
  {
   "cell_type": "code",
   "execution_count": 36,
   "metadata": {},
   "outputs": [
    {
     "data": {
      "text/plain": [
       "['df_morticd_10_1']"
      ]
     },
     "execution_count": 36,
     "metadata": {},
     "output_type": "execute_result"
    }
   ],
   "source": [
    "mortic_dataframes[0:1]"
   ]
  },
  {
   "cell_type": "code",
   "execution_count": 46,
   "metadata": {},
   "outputs": [
    {
     "name": "stderr",
     "output_type": "stream",
     "text": [
      "Summarize dataset: 100%|██████████| 45/45 [00:06<00:00,  6.84it/s, Completed]                   \n",
      "Generate report structure: 100%|██████████| 1/1 [00:13<00:00, 13.78s/it]\n",
      "Render HTML: 100%|██████████| 1/1 [00:01<00:00,  1.10s/it]\n",
      "Export report to file: 100%|██████████| 1/1 [00:00<00:00,  6.90it/s]\n"
     ]
    }
   ],
   "source": [
    "profile_test = pandas_profiling.ProfileReport(df_morticd_10_1, minimal=True)\n",
    "profile_test.to_file(output_file= \"test.html\")"
   ]
  },
  {
   "cell_type": "code",
   "execution_count": 48,
   "metadata": {},
   "outputs": [
    {
     "name": "stderr",
     "output_type": "stream",
     "text": [
      "Summarize dataset: 100%|██████████| 45/45 [00:07<00:00,  6.31it/s, Completed]                   \n",
      "Generate report structure: 100%|██████████| 1/1 [00:14<00:00, 14.98s/it]\n",
      "Render HTML: 100%|██████████| 1/1 [00:00<00:00,  1.29it/s]\n",
      "Export report to file: 100%|██████████| 1/1 [00:00<00:00, 165.85it/s]\n"
     ]
    }
   ],
   "source": [
    "profiles =[]\n",
    "for mortic_dataframe in mortic_dataframes:\n",
    "    profile = pandas_profiling.ProfileReport(globals()[str(mortic_dataframe)], minimal=True)\n",
    "    profiles.append(mortic_dataframe + \".html\")\n",
    "    profile.to_file(output_file = str(mortic_dataframe) + \".html\")"
   ]
  }
 ],
 "metadata": {
  "interpreter": {
   "hash": "34c652a1680248fd83292c4391b75096cc5e1246697fe6a9dafc671d4727a030"
  },
  "kernelspec": {
   "display_name": "Python 3.9.10 64-bit (windows store)",
   "language": "python",
   "name": "python3"
  },
  "language_info": {
   "codemirror_mode": {
    "name": "ipython",
    "version": 3
   },
   "file_extension": ".py",
   "mimetype": "text/x-python",
   "name": "python",
   "nbconvert_exporter": "python",
   "pygments_lexer": "ipython3",
   "version": "3.9.10"
  },
  "orig_nbformat": 4
 },
 "nbformat": 4,
 "nbformat_minor": 2
}
