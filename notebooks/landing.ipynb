{
  "nbformat": 4,
  "nbformat_minor": 0,
  "metadata": {
    "colab": {
      "name": "landing.ipynb",
      "provenance": [],
      "collapsed_sections": [],
      "authorship_tag": "ABX9TyOUkRDTl9nYBAvICHkDLe3y",
      "include_colab_link": true
    },
    "kernelspec": {
      "name": "python3",
      "display_name": "Python 3"
    },
    "language_info": {
      "name": "python"
    }
  },
  "cells": [
    {
      "cell_type": "markdown",
      "metadata": {
        "id": "view-in-github",
        "colab_type": "text"
      },
      "source": [
        "<a href=\"https://colab.research.google.com/github/Leixb/UPC-ADSDB_e2e/blob/master/notebooks/landing.ipynb\" target=\"_parent\"><img src=\"https://colab.research.google.com/assets/colab-badge.svg\" alt=\"Open In Colab\"/></a>"
      ]
    },
    {
      "cell_type": "code",
      "source": [
        "from zipfile import ZipFile\n",
        "import glob\n",
        "import os\n",
        "from datetime import datetime\n",
        "import json"
      ],
      "metadata": {
        "id": "9s1WBNy5InX6"
      },
      "execution_count": null,
      "outputs": []
    },
    {
      "cell_type": "code",
      "execution_count": null,
      "metadata": {
        "colab": {
          "base_uri": "https://localhost:8080/",
          "height": 382
        },
        "id": "m6tUlx-WHjAj",
        "outputId": "efaff4e1-86c7-43fc-ca98-e69caa7f037a"
      },
      "outputs": [
        {
          "output_type": "error",
          "ename": "MessageError",
          "evalue": "ignored",
          "traceback": [
            "\u001b[0;31m---------------------------------------------------------------------------\u001b[0m",
            "\u001b[0;31mMessageError\u001b[0m                              Traceback (most recent call last)",
            "\u001b[0;32m<ipython-input-4-13c6e0be15dd>\u001b[0m in \u001b[0;36m<module>\u001b[0;34m()\u001b[0m\n\u001b[1;32m      1\u001b[0m \u001b[0;32mtry\u001b[0m\u001b[0;34m:\u001b[0m\u001b[0;34m\u001b[0m\u001b[0;34m\u001b[0m\u001b[0m\n\u001b[1;32m      2\u001b[0m   \u001b[0;32mfrom\u001b[0m \u001b[0mgoogle\u001b[0m\u001b[0;34m.\u001b[0m\u001b[0mcolab\u001b[0m \u001b[0;32mimport\u001b[0m \u001b[0mdrive\u001b[0m\u001b[0;34m\u001b[0m\u001b[0;34m\u001b[0m\u001b[0m\n\u001b[0;32m----> 3\u001b[0;31m   \u001b[0mdrive\u001b[0m\u001b[0;34m.\u001b[0m\u001b[0mmount\u001b[0m\u001b[0;34m(\u001b[0m\u001b[0;34m'/content/drive'\u001b[0m\u001b[0;34m,\u001b[0m \u001b[0mforce_remount\u001b[0m\u001b[0;34m=\u001b[0m\u001b[0;32mTrue\u001b[0m\u001b[0;34m)\u001b[0m\u001b[0;34m\u001b[0m\u001b[0;34m\u001b[0m\u001b[0m\n\u001b[0m\u001b[1;32m      4\u001b[0m   \u001b[0mis_local\u001b[0m \u001b[0;34m=\u001b[0m \u001b[0;32mFalse\u001b[0m\u001b[0;34m\u001b[0m\u001b[0;34m\u001b[0m\u001b[0m\n\u001b[1;32m      5\u001b[0m \u001b[0;32mexcept\u001b[0m \u001b[0mModuleNotFoundError\u001b[0m\u001b[0;34m:\u001b[0m\u001b[0;34m\u001b[0m\u001b[0;34m\u001b[0m\u001b[0m\n",
            "\u001b[0;32m/usr/local/lib/python3.7/dist-packages/google/colab/drive.py\u001b[0m in \u001b[0;36mmount\u001b[0;34m(mountpoint, force_remount, timeout_ms, use_metadata_server)\u001b[0m\n\u001b[1;32m    111\u001b[0m       \u001b[0mtimeout_ms\u001b[0m\u001b[0;34m=\u001b[0m\u001b[0mtimeout_ms\u001b[0m\u001b[0;34m,\u001b[0m\u001b[0;34m\u001b[0m\u001b[0;34m\u001b[0m\u001b[0m\n\u001b[1;32m    112\u001b[0m       \u001b[0muse_metadata_server\u001b[0m\u001b[0;34m=\u001b[0m\u001b[0muse_metadata_server\u001b[0m\u001b[0;34m,\u001b[0m\u001b[0;34m\u001b[0m\u001b[0;34m\u001b[0m\u001b[0m\n\u001b[0;32m--> 113\u001b[0;31m       ephemeral=ephemeral)\n\u001b[0m\u001b[1;32m    114\u001b[0m \u001b[0;34m\u001b[0m\u001b[0m\n\u001b[1;32m    115\u001b[0m \u001b[0;34m\u001b[0m\u001b[0m\n",
            "\u001b[0;32m/usr/local/lib/python3.7/dist-packages/google/colab/drive.py\u001b[0m in \u001b[0;36m_mount\u001b[0;34m(mountpoint, force_remount, timeout_ms, use_metadata_server, ephemeral)\u001b[0m\n\u001b[1;32m    134\u001b[0m   \u001b[0;32mif\u001b[0m \u001b[0mephemeral\u001b[0m\u001b[0;34m:\u001b[0m\u001b[0;34m\u001b[0m\u001b[0;34m\u001b[0m\u001b[0m\n\u001b[1;32m    135\u001b[0m     _message.blocking_request(\n\u001b[0;32m--> 136\u001b[0;31m         'request_auth', request={'authType': 'dfs_ephemeral'}, timeout_sec=None)\n\u001b[0m\u001b[1;32m    137\u001b[0m \u001b[0;34m\u001b[0m\u001b[0m\n\u001b[1;32m    138\u001b[0m   \u001b[0mmountpoint\u001b[0m \u001b[0;34m=\u001b[0m \u001b[0m_os\u001b[0m\u001b[0;34m.\u001b[0m\u001b[0mpath\u001b[0m\u001b[0;34m.\u001b[0m\u001b[0mexpanduser\u001b[0m\u001b[0;34m(\u001b[0m\u001b[0mmountpoint\u001b[0m\u001b[0;34m)\u001b[0m\u001b[0;34m\u001b[0m\u001b[0;34m\u001b[0m\u001b[0m\n",
            "\u001b[0;32m/usr/local/lib/python3.7/dist-packages/google/colab/_message.py\u001b[0m in \u001b[0;36mblocking_request\u001b[0;34m(request_type, request, timeout_sec, parent)\u001b[0m\n\u001b[1;32m    173\u001b[0m   request_id = send_request(\n\u001b[1;32m    174\u001b[0m       request_type, request, parent=parent, expect_reply=True)\n\u001b[0;32m--> 175\u001b[0;31m   \u001b[0;32mreturn\u001b[0m \u001b[0mread_reply_from_input\u001b[0m\u001b[0;34m(\u001b[0m\u001b[0mrequest_id\u001b[0m\u001b[0;34m,\u001b[0m \u001b[0mtimeout_sec\u001b[0m\u001b[0;34m)\u001b[0m\u001b[0;34m\u001b[0m\u001b[0;34m\u001b[0m\u001b[0m\n\u001b[0m",
            "\u001b[0;32m/usr/local/lib/python3.7/dist-packages/google/colab/_message.py\u001b[0m in \u001b[0;36mread_reply_from_input\u001b[0;34m(message_id, timeout_sec)\u001b[0m\n\u001b[1;32m    104\u001b[0m         reply.get('colab_msg_id') == message_id):\n\u001b[1;32m    105\u001b[0m       \u001b[0;32mif\u001b[0m \u001b[0;34m'error'\u001b[0m \u001b[0;32min\u001b[0m \u001b[0mreply\u001b[0m\u001b[0;34m:\u001b[0m\u001b[0;34m\u001b[0m\u001b[0;34m\u001b[0m\u001b[0m\n\u001b[0;32m--> 106\u001b[0;31m         \u001b[0;32mraise\u001b[0m \u001b[0mMessageError\u001b[0m\u001b[0;34m(\u001b[0m\u001b[0mreply\u001b[0m\u001b[0;34m[\u001b[0m\u001b[0;34m'error'\u001b[0m\u001b[0;34m]\u001b[0m\u001b[0;34m)\u001b[0m\u001b[0;34m\u001b[0m\u001b[0;34m\u001b[0m\u001b[0m\n\u001b[0m\u001b[1;32m    107\u001b[0m       \u001b[0;32mreturn\u001b[0m \u001b[0mreply\u001b[0m\u001b[0;34m.\u001b[0m\u001b[0mget\u001b[0m\u001b[0;34m(\u001b[0m\u001b[0;34m'data'\u001b[0m\u001b[0;34m,\u001b[0m \u001b[0;32mNone\u001b[0m\u001b[0;34m)\u001b[0m\u001b[0;34m\u001b[0m\u001b[0;34m\u001b[0m\u001b[0m\n\u001b[1;32m    108\u001b[0m \u001b[0;34m\u001b[0m\u001b[0m\n",
            "\u001b[0;31mMessageError\u001b[0m: Error: credential propagation was unsuccessful"
          ]
        }
      ],
      "source": [
        "try:\n",
        "  from google.colab import drive\n",
        "  drive.mount('/content/drive', force_remount=True)\n",
        "  is_local = False\n",
        "except ModuleNotFoundError:\n",
        "  is_local = True"
      ]
    },
    {
      "cell_type": "code",
      "source": [
        "folder_landing = if is_local \"./landing\" else \"/content/drive/MyDrive/ADSDB/landing\"\n",
        "\n",
        "folder_temporal = os.path.join(folder_landing, \"temporal\")\n",
        "folder_persistent = os.path.join(folder_landing, \"persistent\")\n",
        "\n",
        "extract_dir = os.path.join(folder_persistent, \"extracted\")"
      ],
      "metadata": {
        "id": "nD0m1q7lHnu9"
      },
      "execution_count": null,
      "outputs": []
    },
    {
      "cell_type": "code",
      "source": [
        "for zip_file in glob.glob(os.path.join(folder_temporal, \"*.zip\")):\n",
        "  print(zip_file)\n",
        "\n",
        "  filename = os.path.basename(zip_file[:-4])\n",
        "  timestamp = os.path.getmtime(zip_file)\n",
        "\n",
        "  out_dir = os.path.join(extract_dir, f\"{filename}-{timestamp}\")\n",
        "  os.makedirs(out_dir, exist_ok = True)\n",
        "  print(out_dir)\n",
        "\n",
        "  with ZipFile(zip_file, 'r') as zipObj:\n",
        "    zipObj.extractall(out_dir)\n",
        "\n",
        "  with open(os.path.join(out_dir, \"metadata.json\"), 'w') as outfile:\n",
        "    json.dump({\n",
        "        \"filename\": filename,\n",
        "        \"timestamp\" : timestamp,\n",
        "        \"ingestion_time\" : datetime.now().timestamp()\n",
        "    }, outfile)"
      ],
      "metadata": {
        "colab": {
          "base_uri": "https://localhost:8080/"
        },
        "id": "CwpvJKvIH6fe",
        "outputId": "8e1bdbae-0198-435c-af3d-4007d3ec34d3"
      },
      "execution_count": null,
      "outputs": [
        {
          "output_type": "stream",
          "name": "stdout",
          "text": [
            "/content/drive/MyDrive/ADSDB/landing/temporal/morticd07.zip\n",
            "/content/drive/MyDrive/ADSDB/landing/persistent/extracted/morticd07-1614616491.0\n",
            "/content/drive/MyDrive/ADSDB/landing/temporal/morticd10_part3.zip\n",
            "/content/drive/MyDrive/ADSDB/landing/persistent/extracted/morticd10_part3-1614616495.0\n",
            "/content/drive/MyDrive/ADSDB/landing/temporal/morticd09.zip\n",
            "/content/drive/MyDrive/ADSDB/landing/persistent/extracted/morticd09-1614616501.0\n",
            "/content/drive/MyDrive/ADSDB/landing/temporal/morticd10_part2.zip\n",
            "/content/drive/MyDrive/ADSDB/landing/persistent/extracted/morticd10_part2-1614616504.0\n",
            "/content/drive/MyDrive/ADSDB/landing/temporal/morticd08.zip\n",
            "/content/drive/MyDrive/ADSDB/landing/persistent/extracted/morticd08-1614684283.0\n",
            "/content/drive/MyDrive/ADSDB/landing/temporal/mort_country_codes.zip\n",
            "/content/drive/MyDrive/ADSDB/landing/persistent/extracted/mort_country_codes-1614687996.0\n",
            "/content/drive/MyDrive/ADSDB/landing/temporal/morticd10_part1.zip\n",
            "/content/drive/MyDrive/ADSDB/landing/persistent/extracted/morticd10_part1-1615880252.0\n",
            "/content/drive/MyDrive/ADSDB/landing/temporal/mort_availability.zip\n",
            "/content/drive/MyDrive/ADSDB/landing/persistent/extracted/mort_availability-1624873556.0\n",
            "/content/drive/MyDrive/ADSDB/landing/temporal/morticd10_part4.zip\n",
            "/content/drive/MyDrive/ADSDB/landing/persistent/extracted/morticd10_part4-1624875439.0\n",
            "/content/drive/MyDrive/ADSDB/landing/temporal/mort_documentation71f9e29d-7e3f-41e6-aafc-c4c1775c7aa3.zip\n",
            "/content/drive/MyDrive/ADSDB/landing/persistent/extracted/mort_documentation71f9e29d-7e3f-41e6-aafc-c4c1775c7aa3-1624875597.0\n",
            "/content/drive/MyDrive/ADSDB/landing/temporal/morticd10_part5.zip\n",
            "/content/drive/MyDrive/ADSDB/landing/persistent/extracted/morticd10_part5-1624875780.0\n",
            "/content/drive/MyDrive/ADSDB/landing/temporal/mort_pop.zip\n",
            "/content/drive/MyDrive/ADSDB/landing/persistent/extracted/mort_pop-1624876144.0\n",
            "/content/drive/MyDrive/ADSDB/landing/temporal/mort_notes.zip\n",
            "/content/drive/MyDrive/ADSDB/landing/persistent/extracted/mort_notes-1624876218.0\n"
          ]
        }
      ]
    }
  ]
}