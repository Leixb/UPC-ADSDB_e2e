{
  "nbformat": 4,
  "nbformat_minor": 0,
  "metadata": {
    "colab": {
      "name": "landing.ipynb",
      "provenance": [],
      "collapsed_sections": [],
      "include_colab_link": true
    },
    "kernelspec": {
      "name": "python3",
      "display_name": "Python 3"
    },
    "language_info": {
      "name": "python"
    }
  },
  "cells": [
    {
      "cell_type": "markdown",
      "metadata": {
        "id": "view-in-github",
        "colab_type": "text"
      },
      "source": [
        "<a href=\"https://colab.research.google.com/github/Leixb/UPC-ADSDB_e2e/blob/master/notebooks/landing.ipynb\" target=\"_parent\"><img src=\"https://colab.research.google.com/assets/colab-badge.svg\" alt=\"Open In Colab\"/></a>"
      ]
    },
    {
      "cell_type": "code",
      "source": [
        "from zipfile import ZipFile\n",
        "import glob\n",
        "import os\n",
        "from datetime import datetime\n",
        "import json\n",
        "import hashlib"
      ],
      "metadata": {
        "id": "9s1WBNy5InX6"
      },
      "execution_count": 14,
      "outputs": []
    },
    {
      "cell_type": "code",
      "execution_count": 2,
      "metadata": {
        "colab": {
          "base_uri": "https://localhost:8080/"
        },
        "id": "m6tUlx-WHjAj",
        "outputId": "ee032c3b-d6b8-46b6-c331-bb1440044679"
      },
      "outputs": [
        {
          "output_type": "stream",
          "name": "stdout",
          "text": [
            "Mounted at /content/drive\n"
          ]
        }
      ],
      "source": [
        "try:\n",
        "  from google.colab import drive\n",
        "  drive.mount('/content/drive', force_remount=True)\n",
        "  is_local = False\n",
        "except ModuleNotFoundError:\n",
        "  is_local = True"
      ]
    },
    {
      "cell_type": "code",
      "source": [
        "folder_landing = \"./landing\" if (is_local) else \"/content/drive/MyDrive/ADSDB/landing\"\n",
        "\n",
        "folder_temporal = os.path.join(folder_landing, \"temporal\")\n",
        "folder_persistent = os.path.join(folder_landing, \"persistent\")\n",
        "\n",
        "extract_dir = os.path.join(folder_persistent, \"extracted\")"
      ],
      "metadata": {
        "id": "nD0m1q7lHnu9"
      },
      "execution_count": 6,
      "outputs": []
    },
    {
      "cell_type": "code",
      "source": [
        "def sha256_file(filename):\n",
        "  with open(filename,\"rb\") as f:\n",
        "    return hashlib.sha256(f.read()).hexdigest();"
      ],
      "metadata": {
        "id": "q-_5YEFOneq7"
      },
      "execution_count": 12,
      "outputs": []
    },
    {
      "cell_type": "code",
      "source": [
        "time_format = \"%Y/%m/%d %H:%M:%S\"\n",
        "\n",
        "global_metadata = dict()\n",
        "\n",
        "for zip_file in glob.glob(os.path.join(folder_temporal, \"*.zip\")):\n",
        "  print(zip_file)\n",
        "\n",
        "  filename = os.path.basename(zip_file)\n",
        "\n",
        "  modification_time = datetime.fromtimestamp(os.path.getmtime(zip_file))\n",
        "  modification_timestamp = modification_time.timestamp()\n",
        "\n",
        "  ingestion_time = datetime.now()\n",
        "  ingestion_timestamp = ingestion_time.timestamp()\n",
        "\n",
        "  sha256 = sha256_file(zip_file)\n",
        "\n",
        "  out_dir = os.path.join(extract_dir, f\"{filename[:-4]}-{sha256}-{ingestion_timestamp}\")\n",
        "  os.makedirs(out_dir, exist_ok = True)\n",
        "\n",
        "  print(out_dir)\n",
        "\n",
        "  with ZipFile(zip_file, 'r') as zipObj:\n",
        "    zipObj.extractall(out_dir)\n",
        "\n",
        "  metadata = {\n",
        "      \"filename\" : filename,\n",
        "      \"source\" : os.path.relpath(zip_file, start = out_dir),\n",
        "      \"sha256\" : sha256,\n",
        "\n",
        "      \"modification_timestamp\" : modification_timestamp,\n",
        "      \"modification_time\" : modification_time.strftime(time_format),\n",
        "\n",
        "      \"ingestion_timestamp\" : ingestion_timestamp,\n",
        "      \"ingestion_time\" : ingestion_time.strftime(time_format),\n",
        "  }\n",
        "\n",
        "  with open(os.path.join(out_dir, \"metadata.json\"), 'w') as outfile:\n",
        "\n",
        "    json.dump(metadata, outfile, indent=2, sort_keys=True)\n",
        "\n",
        "  global_metadata[f\"{filename}-{ingestion_timestamp}\"] = metadata\n",
        "\n",
        "glob_meta_file = os.path.join(folder_persistent, \"global_metadata.json\")\n",
        "\n",
        "try:\n",
        "  with open(glob_meta_file, 'r') as f:\n",
        "    old_meta = json.load(f)\n",
        "except FileNotFoundError:\n",
        "  old_meta = dict()\n",
        "\n",
        "joined_meta = {**old_meta, **global_metadata}\n",
        "\n",
        "with open(glob_meta_file, 'w') as f:\n",
        "  old_meta = json.dump(joined_meta, f, indent=2, sort_keys=True)"
      ],
      "metadata": {
        "colab": {
          "base_uri": "https://localhost:8080/"
        },
        "id": "CwpvJKvIH6fe",
        "outputId": "2330dde4-5b8f-497b-cb54-f2a6f556d2a9"
      },
      "execution_count": 19,
      "outputs": [
        {
          "output_type": "stream",
          "name": "stdout",
          "text": [
            "/content/drive/MyDrive/ADSDB/landing/temporal/morticd07.zip\n",
            "/content/drive/MyDrive/ADSDB/landing/persistent/extracted/morticd07-22b463f703974c247c37a33133713348800a4cc68163eb37ff7ac139406237b5-1642855877.728462\n",
            "/content/drive/MyDrive/ADSDB/landing/temporal/morticd10_part3.zip\n",
            "/content/drive/MyDrive/ADSDB/landing/persistent/extracted/morticd10_part3-1c6ac83e205760a121b515cad8d97733f8cdc19afd0beb0b5d0e45d474786f54-1642855878.072968\n",
            "/content/drive/MyDrive/ADSDB/landing/temporal/morticd09.zip\n",
            "/content/drive/MyDrive/ADSDB/landing/persistent/extracted/morticd09-71c96f66c67f0ae8fb0da942e9ba1a0b050b6d60450c58997c49fe6ba16f9b6f-1642855879.053405\n",
            "/content/drive/MyDrive/ADSDB/landing/temporal/morticd10_part2.zip\n",
            "/content/drive/MyDrive/ADSDB/landing/persistent/extracted/morticd10_part2-ffb1ddb02ca487f0e074977c486fe89dc61d1180041b53e5be5872f7cf61e0da-1642855880.083453\n",
            "/content/drive/MyDrive/ADSDB/landing/temporal/morticd08.zip\n",
            "/content/drive/MyDrive/ADSDB/landing/persistent/extracted/morticd08-93662076d32b3ca378d3f9bd7170ca5c2ec81dc43958c6500ec928fe72886e6d-1642855881.072382\n",
            "/content/drive/MyDrive/ADSDB/landing/temporal/mort_country_codes.zip\n",
            "/content/drive/MyDrive/ADSDB/landing/persistent/extracted/mort_country_codes-8c410820356fc572845b5281b36f638e044a565f808c4e72efc8fb69b07df6b2-1642855881.519815\n",
            "/content/drive/MyDrive/ADSDB/landing/temporal/morticd10_part1.zip\n",
            "/content/drive/MyDrive/ADSDB/landing/persistent/extracted/morticd10_part1-f695bf0a3dbff3e1d662c04e35df31322f581233fb6898a6472a43e470fd26f3-1642855881.534889\n",
            "/content/drive/MyDrive/ADSDB/landing/temporal/mort_availability.zip\n",
            "/content/drive/MyDrive/ADSDB/landing/persistent/extracted/mort_availability-72696e4e26befe59c99ef76edf051c3d797350d4b7c7cb084f60f0b61f6280cc-1642855882.509315\n",
            "/content/drive/MyDrive/ADSDB/landing/temporal/morticd10_part4.zip\n",
            "/content/drive/MyDrive/ADSDB/landing/persistent/extracted/morticd10_part4-453ea568dead76c65c21a7de91da05cff8faf41b9d86961454307a3925057e61-1642855882.530144\n",
            "/content/drive/MyDrive/ADSDB/landing/temporal/mort_documentation71f9e29d-7e3f-41e6-aafc-c4c1775c7aa3.zip\n",
            "/content/drive/MyDrive/ADSDB/landing/persistent/extracted/mort_documentation71f9e29d-7e3f-41e6-aafc-c4c1775c7aa3-eaff73ddddc2ea57057f3fc20038f0a42ea16c0442b8e28e93e8df47de50542b-1642855883.406269\n",
            "/content/drive/MyDrive/ADSDB/landing/temporal/morticd10_part5.zip\n",
            "/content/drive/MyDrive/ADSDB/landing/persistent/extracted/morticd10_part5-8f17316db49b873046f32ceaed83461adaf6e121b7302167709d8fb6c2aaa181-1642855883.436516\n",
            "/content/drive/MyDrive/ADSDB/landing/temporal/mort_pop.zip\n",
            "/content/drive/MyDrive/ADSDB/landing/persistent/extracted/mort_pop-3b8f463ba095690338a8d9692ab4bb0457639eefff12c9df7486c1cdaf7ac833-1642855883.744773\n",
            "/content/drive/MyDrive/ADSDB/landing/temporal/mort_notes.zip\n",
            "/content/drive/MyDrive/ADSDB/landing/persistent/extracted/mort_notes-a67b4db9d9867e9076791d77c3ce9895eb19a7c6a789f367764676ad23eaec36-1642855883.790238\n"
          ]
        }
      ]
    }
  ]
}